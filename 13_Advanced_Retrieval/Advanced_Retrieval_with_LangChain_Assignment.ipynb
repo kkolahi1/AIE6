{
  "cells": [
    {
      "cell_type": "markdown",
      "metadata": {
        "id": "e-IqJAMkwnCF"
      },
      "source": [
        "# Advanced Retrieval with LangChain\n",
        "\n",
        "In the following notebook, we'll explore various methods of advanced retrieval using LangChain!\n",
        "\n",
        "We'll touch on:\n",
        "\n",
        "- Naive Retrieval\n",
        "- Best-Matching 25 (BM25)\n",
        "- Multi-Query Retrieval\n",
        "- Parent-Document Retrieval\n",
        "- Contextual Compression (a.k.a. Rerank)\n",
        "- Ensemble Retrieval\n",
        "- Semantic chunking\n",
        "\n",
        "We'll also discuss how these methods impact performance on our set of documents with a simple RAG chain.\n",
        "\n",
        "There will be two breakout rooms:\n",
        "\n",
        "- 🤝 Breakout Room Part #1\n",
        "  - Task 1: Getting Dependencies!\n",
        "  - Task 2: Data Collection and Preparation\n",
        "  - Task 3: Setting Up QDrant!\n",
        "  - Task 4-10: Retrieval Strategies\n",
        "- 🤝 Breakout Room Part #2\n",
        "  - Activity: Evaluate with Ragas"
      ]
    },
    {
      "cell_type": "markdown",
      "metadata": {
        "id": "4rKP3hgHivpe"
      },
      "source": [
        "# 🤝 Breakout Room Part #1"
      ]
    },
    {
      "cell_type": "markdown",
      "metadata": {
        "id": "3xes8oT-xHN7"
      },
      "source": [
        "## Task 1: Getting Dependencies!\n",
        "\n",
        "We're going to need a few specific LangChain community packages, like OpenAI (for our [LLM](https://platform.openai.com/docs/models) and [Embedding Model](https://platform.openai.com/docs/guides/embeddings)) and Cohere (for our [Reranker](https://cohere.com/rerank)).\n",
        "\n",
        "> You do not need to run the following cells if you are running this notebook locally. "
      ]
    },
    {
      "cell_type": "code",
      "execution_count": null,
      "metadata": {
        "colab": {
          "base_uri": "https://localhost:8080/"
        },
        "id": "MkgFAXWVW3wm",
        "outputId": "636db35c-f05a-4038-ec7a-02360bef2dae"
      },
      "outputs": [
        {
          "name": "stdout",
          "output_type": "stream",
          "text": [
            "\u001b[?25l   \u001b[90m━━━━━━━━━━━━━━━━━━━━━━━━━━━━━━━━━━━━━━━━\u001b[0m \u001b[32m0.0/49.6 kB\u001b[0m \u001b[31m?\u001b[0m eta \u001b[36m-:--:--\u001b[0m\r\u001b[2K   \u001b[90m━━━━━━━━━━━━━━━━━━━━━━━━━━━━━━━━━━━━━━━━\u001b[0m \u001b[32m49.6/49.6 kB\u001b[0m \u001b[31m3.2 MB/s\u001b[0m eta \u001b[36m0:00:00\u001b[0m\n",
            "\u001b[?25h\u001b[?25l   \u001b[90m━━━━━━━━━━━━━━━━━━━━━━━━━━━━━━━━━━━━━━━━\u001b[0m \u001b[32m0.0/44.0 kB\u001b[0m \u001b[31m?\u001b[0m eta \u001b[36m-:--:--\u001b[0m\r\u001b[2K   \u001b[90m━━━━━━━━━━━━━━━━━━━━━━━━━━━━━━━━━━━━━━━━\u001b[0m \u001b[32m44.0/44.0 kB\u001b[0m \u001b[31m2.3 MB/s\u001b[0m eta \u001b[36m0:00:00\u001b[0m\n",
            "\u001b[?25h\u001b[?25l   \u001b[90m━━━━━━━━━━━━━━━━━━━━━━━━━━━━━━━━━━━━━━━━\u001b[0m \u001b[32m0.0/233.1 kB\u001b[0m \u001b[31m?\u001b[0m eta \u001b[36m-:--:--\u001b[0m\r\u001b[2K   \u001b[90m━━━━━━━━━━━━━━━━━━━━━━━━━━━━━━━━━━━━━━━━\u001b[0m \u001b[32m233.1/233.1 kB\u001b[0m \u001b[31m8.0 MB/s\u001b[0m eta \u001b[36m0:00:00\u001b[0m\n",
            "\u001b[2K   \u001b[90m━━━━━━━━━━━━━━━━━━━━━━━━━━━━━━━━━━━━━━━━\u001b[0m \u001b[32m378.1/378.1 kB\u001b[0m \u001b[31m15.9 MB/s\u001b[0m eta \u001b[36m0:00:00\u001b[0m\n",
            "\u001b[2K   \u001b[90m━━━━━━━━━━━━━━━━━━━━━━━━━━━━━━━━━━━━━━━━\u001b[0m \u001b[32m1.1/1.1 MB\u001b[0m \u001b[31m37.4 MB/s\u001b[0m eta \u001b[36m0:00:00\u001b[0m\n",
            "\u001b[2K   \u001b[90m━━━━━━━━━━━━━━━━━━━━━━━━━━━━━━━━━━━━━━━━\u001b[0m \u001b[32m139.1/139.1 kB\u001b[0m \u001b[31m8.5 MB/s\u001b[0m eta \u001b[36m0:00:00\u001b[0m\n",
            "\u001b[2K   \u001b[90m━━━━━━━━━━━━━━━━━━━━━━━━━━━━━━━━━━━━━━━━\u001b[0m \u001b[32m3.1/3.1 MB\u001b[0m \u001b[31m58.2 MB/s\u001b[0m eta \u001b[36m0:00:00\u001b[0m\n",
            "\u001b[2K   \u001b[90m━━━━━━━━━━━━━━━━━━━━━━━━━━━━━━━━━━━━━━━━\u001b[0m \u001b[32m318.9/318.9 kB\u001b[0m \u001b[31m16.9 MB/s\u001b[0m eta \u001b[36m0:00:00\u001b[0m\n",
            "\u001b[2K   \u001b[90m━━━━━━━━━━━━━━━━━━━━━━━━━━━━━━━━━━━━━━━━\u001b[0m \u001b[32m12.6/12.6 MB\u001b[0m \u001b[31m63.4 MB/s\u001b[0m eta \u001b[36m0:00:00\u001b[0m\n",
            "\u001b[2K   \u001b[90m━━━━━━━━━━━━━━━━━━━━━━━━━━━━━━━━━━━━━━━━\u001b[0m \u001b[32m82.7/82.7 kB\u001b[0m \u001b[31m5.2 MB/s\u001b[0m eta \u001b[36m0:00:00\u001b[0m\n",
            "\u001b[?25h"
          ]
        }
      ],
      "source": [
        "#!pip install -qU langchain langchain-openai langchain-cohere rank_bm25"
      ]
    },
    {
      "cell_type": "markdown",
      "metadata": {
        "id": "dKqYM4Eoxcov"
      },
      "source": [
        "We're also going to be leveraging [Qdrant's](https://qdrant.tech/documentation/frameworks/langchain/) (pronounced \"Quadrant\") VectorDB in \"memory\" mode (so we can leverage it locally in our colab environment)."
      ]
    },
    {
      "cell_type": "code",
      "execution_count": null,
      "metadata": {
        "id": "s6xav5CxYnML"
      },
      "outputs": [],
      "source": [
        "#!pip install -qU qdrant-client"
      ]
    },
    {
      "cell_type": "markdown",
      "metadata": {
        "id": "Z7OHJXzfyJyA"
      },
      "source": [
        "We'll also provide our OpenAI key, as well as our Cohere API key."
      ]
    },
    {
      "cell_type": "code",
      "execution_count": 1,
      "metadata": {
        "colab": {
          "base_uri": "https://localhost:8080/"
        },
        "id": "7LttlDQUYgSI",
        "outputId": "9dca95ab-4d02-4adf-ec3f-cb831326dc54"
      },
      "outputs": [],
      "source": [
        "import os\n",
        "import getpass\n",
        "\n",
        "os.environ[\"OPENAI_API_KEY\"] = getpass.getpass(\"Enter your OpenAI API Key:\")"
      ]
    },
    {
      "cell_type": "code",
      "execution_count": 2,
      "metadata": {
        "colab": {
          "base_uri": "https://localhost:8080/"
        },
        "id": "3iUahNiJyQbv",
        "outputId": "78bf06ef-2ee8-46c3-f73d-27958b4dd79b"
      },
      "outputs": [],
      "source": [
        "os.environ[\"COHERE_API_KEY\"] = getpass.getpass(\"Cohere API Key:\")"
      ]
    },
    {
      "cell_type": "markdown",
      "metadata": {
        "id": "B0pDRFEWSXvh"
      },
      "source": []
    },
    {
      "cell_type": "markdown",
      "metadata": {
        "id": "mw304iAFyRtl"
      },
      "source": [
        "## Task 2: Data Collection and Preparation\n",
        "\n",
        "We'll be using some reviews from the 4 movies in the John Wick franchise today to explore the different retrieval strategies.\n",
        "\n",
        "These were obtained from IMDB, and are available in the [AIM Data Repository](https://github.com/AI-Maker-Space/DataRepository)."
      ]
    },
    {
      "cell_type": "markdown",
      "metadata": {
        "id": "xXKHcZmKzDwT"
      },
      "source": [
        "### Data Collection\n",
        "\n",
        "We can simply `wget` these from GitHub.\n",
        "\n",
        "You could use any review data you wanted in this step - just be careful to make sure your metadata is aligned with your choice."
      ]
    },
    {
      "cell_type": "code",
      "execution_count": 3,
      "metadata": {
        "colab": {
          "base_uri": "https://localhost:8080/"
        },
        "id": "vbbSIGtzX3dS",
        "outputId": "0ce6514e-2479-4001-af24-824f987ce599"
      },
      "outputs": [
        {
          "name": "stdout",
          "output_type": "stream",
          "text": [
            "--2025-05-16 10:10:59--  https://raw.githubusercontent.com/AI-Maker-Space/DataRepository/main/jw1.csv\n",
            "Resolving raw.githubusercontent.com (raw.githubusercontent.com)... 185.199.110.133, 185.199.108.133, 185.199.111.133, ...\n",
            "Connecting to raw.githubusercontent.com (raw.githubusercontent.com)|185.199.110.133|:443... connected.\n",
            "HTTP request sent, awaiting response... 200 OK\n",
            "Length: 19628 (19K) [text/plain]\n",
            "Saving to: ‘john_wick_1.csv’\n",
            "\n",
            "john_wick_1.csv     100%[===================>]  19.17K  --.-KB/s    in 0.004s  \n",
            "\n",
            "2025-05-16 10:10:59 (4.60 MB/s) - ‘john_wick_1.csv’ saved [19628/19628]\n",
            "\n",
            "--2025-05-16 10:11:00--  https://raw.githubusercontent.com/AI-Maker-Space/DataRepository/main/jw2.csv\n",
            "Resolving raw.githubusercontent.com (raw.githubusercontent.com)... 185.199.110.133, 185.199.108.133, 185.199.111.133, ...\n",
            "Connecting to raw.githubusercontent.com (raw.githubusercontent.com)|185.199.110.133|:443... connected.\n",
            "HTTP request sent, awaiting response... 200 OK\n",
            "Length: 14747 (14K) [text/plain]\n",
            "Saving to: ‘john_wick_2.csv’\n",
            "\n",
            "john_wick_2.csv     100%[===================>]  14.40K  --.-KB/s    in 0.005s  \n",
            "\n",
            "2025-05-16 10:11:00 (3.04 MB/s) - ‘john_wick_2.csv’ saved [14747/14747]\n",
            "\n",
            "--2025-05-16 10:11:00--  https://raw.githubusercontent.com/AI-Maker-Space/DataRepository/main/jw3.csv\n",
            "Resolving raw.githubusercontent.com (raw.githubusercontent.com)... 185.199.110.133, 185.199.108.133, 185.199.111.133, ...\n",
            "Connecting to raw.githubusercontent.com (raw.githubusercontent.com)|185.199.110.133|:443... connected.\n",
            "HTTP request sent, awaiting response... 200 OK\n",
            "Length: 13888 (14K) [text/plain]\n",
            "Saving to: ‘john_wick_3.csv’\n",
            "\n",
            "john_wick_3.csv     100%[===================>]  13.56K  --.-KB/s    in 0s      \n",
            "\n",
            "2025-05-16 10:11:01 (31.4 MB/s) - ‘john_wick_3.csv’ saved [13888/13888]\n",
            "\n",
            "--2025-05-16 10:11:01--  https://raw.githubusercontent.com/AI-Maker-Space/DataRepository/main/jw4.csv\n",
            "Resolving raw.githubusercontent.com (raw.githubusercontent.com)... 185.199.110.133, 185.199.108.133, 185.199.111.133, ...\n",
            "Connecting to raw.githubusercontent.com (raw.githubusercontent.com)|185.199.110.133|:443... connected.\n",
            "HTTP request sent, awaiting response... 200 OK\n",
            "Length: 15109 (15K) [text/plain]\n",
            "Saving to: ‘john_wick_4.csv’\n",
            "\n",
            "john_wick_4.csv     100%[===================>]  14.75K  --.-KB/s    in 0.001s  \n",
            "\n",
            "2025-05-16 10:11:02 (14.6 MB/s) - ‘john_wick_4.csv’ saved [15109/15109]\n",
            "\n"
          ]
        }
      ],
      "source": [
        "!wget https://raw.githubusercontent.com/AI-Maker-Space/DataRepository/main/jw1.csv -O john_wick_1.csv\n",
        "!wget https://raw.githubusercontent.com/AI-Maker-Space/DataRepository/main/jw2.csv -O john_wick_2.csv\n",
        "!wget https://raw.githubusercontent.com/AI-Maker-Space/DataRepository/main/jw3.csv -O john_wick_3.csv\n",
        "!wget https://raw.githubusercontent.com/AI-Maker-Space/DataRepository/main/jw4.csv -O john_wick_4.csv"
      ]
    },
    {
      "cell_type": "markdown",
      "metadata": {
        "id": "A92NC2QZzCsi"
      },
      "source": [
        "### Data Preparation\n",
        "\n",
        "We want to make sure all our documents have the relevant metadata for the various retrieval strategies we're going to be applying today.\n",
        "\n",
        "- Self-Query: Wants as much metadata as we can provide\n",
        "- Time-weighted: Wants temporal data\n",
        "\n",
        "> NOTE: While we're creating a temporal relationship based on when these movies came out for illustrative purposes, it needs to be clear that the \"time-weighting\" in the Time-weighted Retriever is based on when the document was *accessed* last - not when it was created."
      ]
    },
    {
      "cell_type": "code",
      "execution_count": 4,
      "metadata": {
        "id": "GshBjVRJZ6p8"
      },
      "outputs": [],
      "source": [
        "from langchain_community.document_loaders.csv_loader import CSVLoader\n",
        "from datetime import datetime, timedelta\n",
        "\n",
        "documents = []\n",
        "\n",
        "for i in range(1, 5):\n",
        "  loader = CSVLoader(\n",
        "      file_path=f\"john_wick_{i}.csv\",\n",
        "      metadata_columns=[\"Review_Date\", \"Review_Title\", \"Review_Url\", \"Author\", \"Rating\"]\n",
        "  )\n",
        "\n",
        "  movie_docs = loader.load()\n",
        "  for doc in movie_docs:\n",
        "\n",
        "    # Add the \"Movie Title\" (John Wick 1, 2, ...)\n",
        "    doc.metadata[\"Movie_Title\"] = f\"John Wick {i}\"\n",
        "\n",
        "    # convert \"Rating\" to an `int`, if no rating is provided - assume 0 rating\n",
        "    doc.metadata[\"Rating\"] = int(doc.metadata[\"Rating\"]) if doc.metadata[\"Rating\"] else 0\n",
        "\n",
        "    # newer movies have a more recent \"last_accessed_at\"\n",
        "    doc.metadata[\"last_accessed_at\"] = datetime.now() - timedelta(days=4-i)\n",
        "\n",
        "  documents.extend(movie_docs)"
      ]
    },
    {
      "cell_type": "markdown",
      "metadata": {
        "id": "9gQphb6y0C0S"
      },
      "source": [
        "Let's look at an example document to see if everything worked as expected!"
      ]
    },
    {
      "cell_type": "code",
      "execution_count": 5,
      "metadata": {
        "colab": {
          "base_uri": "https://localhost:8080/"
        },
        "id": "PkUkCf7DaMiq",
        "outputId": "e90bd5da-1d87-423b-838a-cb6efc16b199"
      },
      "outputs": [
        {
          "data": {
            "text/plain": [
              "Document(metadata={'source': 'john_wick_1.csv', 'row': 0, 'Review_Date': '6 May 2015', 'Review_Title': ' Kinetic, concise, and stylish; John Wick kicks ass.\\n', 'Review_Url': '/review/rw3233896/?ref_=tt_urv', 'Author': 'lnvicta', 'Rating': 8, 'Movie_Title': 'John Wick 1', 'last_accessed_at': datetime.datetime(2025, 5, 13, 10, 11, 7, 491393)}, page_content=\": 0\\nReview: The best way I can describe John Wick is to picture Taken but instead of Liam Neeson it's Keanu Reeves and instead of his daughter it's his dog. That's essentially the plot of the movie. John Wick (Reeves) is out to seek revenge on the people who took something he loved from him. It's a beautifully simple premise for an action movie - when action movies get convoluted, they get bad i.e. A Good Day to Die Hard. John Wick gives the viewers what they want: Awesome action, stylish stunts, kinetic chaos, and a relatable hero to tie it all together. John Wick succeeds in its simplicity.\")"
            ]
          },
          "execution_count": 5,
          "metadata": {},
          "output_type": "execute_result"
        }
      ],
      "source": [
        "documents[0]"
      ]
    },
    {
      "cell_type": "code",
      "execution_count": 6,
      "metadata": {},
      "outputs": [
        {
          "data": {
            "text/plain": [
              "100"
            ]
          },
          "execution_count": 6,
          "metadata": {},
          "output_type": "execute_result"
        }
      ],
      "source": [
        "len(documents)"
      ]
    },
    {
      "cell_type": "markdown",
      "metadata": {
        "id": "lWaQpdHl0Gzc"
      },
      "source": [
        "## Task 3: Setting up QDrant!\n",
        "\n",
        "Now that we have our documents, let's create a QDrant VectorStore with the collection name \"JohnWick\".\n",
        "\n",
        "We'll leverage OpenAI's [`text-embedding-3-small`](https://openai.com/blog/new-embedding-models-and-api-updates) because it's a very powerful (and low-cost) embedding model.\n",
        "\n",
        "> NOTE: We'll be creating additional vectorstores where necessary, but this pattern is still extremely useful."
      ]
    },
    {
      "cell_type": "code",
      "execution_count": 7,
      "metadata": {
        "id": "NT8ihRJbYmMT"
      },
      "outputs": [],
      "source": [
        "from langchain_community.vectorstores import Qdrant\n",
        "from langchain_openai import OpenAIEmbeddings\n",
        "\n",
        "embeddings = OpenAIEmbeddings(model=\"text-embedding-3-small\")\n",
        "\n",
        "vectorstore = Qdrant.from_documents(\n",
        "    documents,\n",
        "    embeddings,\n",
        "    location=\":memory:\",\n",
        "    collection_name=\"JohnWick\"\n",
        ")"
      ]
    },
    {
      "cell_type": "markdown",
      "metadata": {
        "id": "-x2SS4Rh0hiN"
      },
      "source": [
        "## Task 4: Naive RAG Chain\n",
        "\n",
        "Since we're focusing on the \"R\" in RAG today - we'll create our Retriever first."
      ]
    },
    {
      "cell_type": "markdown",
      "metadata": {
        "id": "NEH7X5Ai08FH"
      },
      "source": [
        "### R - Retrieval\n",
        "\n",
        "This naive retriever will simply look at each review as a document, and use cosine-similarity to fetch the 10 most relevant documents.\n",
        "\n",
        "> NOTE: We're choosing `10` as our `k` here to provide enough documents for our reranking process later"
      ]
    },
    {
      "cell_type": "code",
      "execution_count": 8,
      "metadata": {
        "id": "GFDPrNBtb72o"
      },
      "outputs": [],
      "source": [
        "naive_retriever = vectorstore.as_retriever(search_kwargs={\"k\" : 10})"
      ]
    },
    {
      "cell_type": "markdown",
      "metadata": {
        "id": "MbBhyQjz06dx"
      },
      "source": [
        "### A - Augmented\n",
        "\n",
        "We're going to go with a standard prompt for our simple RAG chain today! Nothing fancy here, we want this to mostly be about the Retrieval process."
      ]
    },
    {
      "cell_type": "code",
      "execution_count": 9,
      "metadata": {
        "id": "7uSz-Dbqcoki"
      },
      "outputs": [],
      "source": [
        "from langchain_core.prompts import ChatPromptTemplate\n",
        "\n",
        "RAG_TEMPLATE = \"\"\"\\\n",
        "You are a helpful and kind assistant. Use the context provided below to answer the question.\n",
        "\n",
        "If you do not know the answer, or are unsure, say you don't know.\n",
        "\n",
        "Query:\n",
        "{question}\n",
        "\n",
        "Context:\n",
        "{context}\n",
        "\"\"\"\n",
        "\n",
        "rag_prompt = ChatPromptTemplate.from_template(RAG_TEMPLATE)"
      ]
    },
    {
      "cell_type": "markdown",
      "metadata": {
        "id": "BlRzpb231GGJ"
      },
      "source": [
        "### G - Generation\n",
        "\n",
        "We're going to leverage `gpt-4.1-nano` as our LLM today, as - again - we want this to largely be about the Retrieval process."
      ]
    },
    {
      "cell_type": "code",
      "execution_count": 10,
      "metadata": {
        "id": "c-1t9H60dJLg"
      },
      "outputs": [],
      "source": [
        "from langchain_openai import ChatOpenAI\n",
        "\n",
        "chat_model = ChatOpenAI(model=\"gpt-4.1-nano\")"
      ]
    },
    {
      "cell_type": "markdown",
      "metadata": {
        "id": "mg3QRGzA1M2x"
      },
      "source": [
        "### LCEL RAG Chain\n",
        "\n",
        "We're going to use LCEL to construct our chain.\n",
        "\n",
        "> NOTE: This chain will be exactly the same across the various examples with the exception of our Retriever!"
      ]
    },
    {
      "cell_type": "code",
      "execution_count": 11,
      "metadata": {
        "id": "0bvstS7mdOW3"
      },
      "outputs": [],
      "source": [
        "from langchain_core.runnables import RunnablePassthrough\n",
        "from operator import itemgetter\n",
        "from langchain_core.output_parsers import StrOutputParser\n",
        "\n",
        "naive_retrieval_chain = (\n",
        "    # INVOKE CHAIN WITH: {\"question\" : \"<<SOME USER QUESTION>>\"}\n",
        "    # \"question\" : populated by getting the value of the \"question\" key\n",
        "    # \"context\"  : populated by getting the value of the \"question\" key and chaining it into the base_retriever\n",
        "    {\"context\": itemgetter(\"question\") | naive_retriever, \"question\": itemgetter(\"question\")}\n",
        "    # \"context\"  : is assigned to a RunnablePassthrough object (will not be called or considered in the next step)\n",
        "    #              by getting the value of the \"context\" key from the previous step\n",
        "    | RunnablePassthrough.assign(context=itemgetter(\"context\"))\n",
        "    # \"response\" : the \"context\" and \"question\" values are used to format our prompt object and then piped\n",
        "    #              into the LLM and stored in a key called \"response\"\n",
        "    # \"context\"  : populated by getting the value of the \"context\" key from the previous step\n",
        "    | {\"response\": rag_prompt | chat_model, \"context\": itemgetter(\"context\")}\n",
        ")"
      ]
    },
    {
      "cell_type": "markdown",
      "metadata": {
        "id": "izKujhNb1ZG8"
      },
      "source": [
        "Let's see how this simple chain does on a few different prompts.\n",
        "\n",
        "> NOTE: You might think that we've cherry picked prompts that showcase the individual skill of each of the retrieval strategies - you'd be correct!"
      ]
    },
    {
      "cell_type": "code",
      "execution_count": 12,
      "metadata": {
        "colab": {
          "base_uri": "https://localhost:8080/",
          "height": 36
        },
        "id": "LI-5ueEddku9",
        "outputId": "7f3cec18-5f4e-41bb-cf71-51ba0be5388e"
      },
      "outputs": [
        {
          "data": {
            "text/plain": [
              "\"Based on the reviews provided, people generally liked John Wick. The majority of reviews rate the film highly, praising its action sequences, style, and Keanu Reeves' performance. Many reviewers expressed that it is an exciting and well-crafted action movie that has been well received by audiences. However, there are some mixed opinions with a few ratings that are more moderate, but overall, the consensus appears to be positive.\""
            ]
          },
          "execution_count": 12,
          "metadata": {},
          "output_type": "execute_result"
        }
      ],
      "source": [
        "naive_retrieval_chain.invoke({\"question\" : \"Did people generally like John Wick?\"})[\"response\"].content"
      ]
    },
    {
      "cell_type": "code",
      "execution_count": 13,
      "metadata": {
        "colab": {
          "base_uri": "https://localhost:8080/",
          "height": 36
        },
        "id": "43zdcdUydtXh",
        "outputId": "db874e67-f568-4ed1-b863-b7c17b387052"
      },
      "outputs": [
        {
          "data": {
            "text/plain": [
              "'Yes, there are reviews with a rating of 10. The URLs to those reviews are:\\n\\n1. [Review URL: /review/rw4854296/?ref_=tt_urv](https://example.com/review/rw4854296/?ref_=tt_urv)\\n2. [Review URL: /review/rw4860412/?ref_=tt_urv](https://example.com/review/rw4860412/?ref_=tt_urv)\\n\\nPlease note that the URLs provided are based on the review URLs given in the context. You can access the reviews through these links.'"
            ]
          },
          "execution_count": 13,
          "metadata": {},
          "output_type": "execute_result"
        }
      ],
      "source": [
        "naive_retrieval_chain.invoke({\"question\" : \"Do any reviews have a rating of 10? If so - can I have the URLs to those reviews?\"})[\"response\"].content"
      ]
    },
    {
      "cell_type": "code",
      "execution_count": 14,
      "metadata": {
        "colab": {
          "base_uri": "https://localhost:8080/",
          "height": 70
        },
        "id": "lpG6rlvvvKFq",
        "outputId": "a1b330b0-628e-41be-d829-9c1d55e781f5"
      },
      "outputs": [
        {
          "data": {
            "text/plain": [
              "\"In the John Wick series, the story revolves around John Wick, a retired hitman who seeks vengeance after a series of personal losses and attacks. The first film depicts how Wick comes out of retirement after gangsters kill his dog and steal his car, which forces him to confront his dark past and unleash a deadly assault on those who wronged him. Throughout the series, Wick's quest for revenge and justice leads to intense action sequences, complex criminal underworlds, and unavoidable consequences, depicting him as a legendary and unstoppable assassin.\""
            ]
          },
          "execution_count": 14,
          "metadata": {},
          "output_type": "execute_result"
        }
      ],
      "source": [
        "naive_retrieval_chain.invoke({\"question\" : \"What happened in John Wick?\"})[\"response\"].content"
      ]
    },
    {
      "cell_type": "markdown",
      "metadata": {
        "id": "jsbfQmbr1leg"
      },
      "source": [
        "Overall, this is not bad! Let's see if we can make it better!"
      ]
    },
    {
      "cell_type": "markdown",
      "metadata": {
        "id": "Ft1vt8HPR16w"
      },
      "source": [
        "## Task 5: Best-Matching 25 (BM25) Retriever\n",
        "\n",
        "Taking a step back in time - [BM25](https://www.nowpublishers.com/article/Details/INR-019) is based on [Bag-Of-Words](https://en.wikipedia.org/wiki/Bag-of-words_model) which is a sparse representation of text.\n",
        "\n",
        "In essence, it's a way to compare how similar two pieces of text are based on the words they both contain.\n",
        "\n",
        "This retriever is very straightforward to set-up! Let's see it happen down below!\n"
      ]
    },
    {
      "cell_type": "code",
      "execution_count": 15,
      "metadata": {
        "id": "qdF4wuj5R-cG"
      },
      "outputs": [],
      "source": [
        "from langchain_community.retrievers import BM25Retriever\n",
        "\n",
        "bm25_retriever = BM25Retriever.from_documents(documents)"
      ]
    },
    {
      "cell_type": "markdown",
      "metadata": {
        "id": "KIjJlBQ8drKH"
      },
      "source": [
        "We'll construct the same chain - only changing the retriever."
      ]
    },
    {
      "cell_type": "code",
      "execution_count": 16,
      "metadata": {
        "id": "WR15EQG7SLuw"
      },
      "outputs": [],
      "source": [
        "bm25_retrieval_chain = (\n",
        "    {\"context\": itemgetter(\"question\") | bm25_retriever, \"question\": itemgetter(\"question\")}\n",
        "    | RunnablePassthrough.assign(context=itemgetter(\"context\"))\n",
        "    | {\"response\": rag_prompt | chat_model, \"context\": itemgetter(\"context\")}\n",
        ")"
      ]
    },
    {
      "cell_type": "markdown",
      "metadata": {
        "id": "0Gi-yXCDdvJk"
      },
      "source": [
        "Let's look at the responses!"
      ]
    },
    {
      "cell_type": "code",
      "execution_count": 17,
      "metadata": {
        "colab": {
          "base_uri": "https://localhost:8080/",
          "height": 53
        },
        "id": "oY9qzmm3SOrF",
        "outputId": "4d4f450f-5978-460f-f242-b32407868353"
      },
      "outputs": [
        {
          "data": {
            "text/plain": [
              "\"Based on the reviews provided, people generally liked the John Wick movies, especially the first one, which received high ratings and positive comments highlighting its stylish action and engaging world. However, opinions on later installments vary, with some viewer reviews expressing dissatisfaction, especially with the third and fourth movies. Overall, there is a trend of appreciation for the franchise's action and style, but not universally.\""
            ]
          },
          "execution_count": 17,
          "metadata": {},
          "output_type": "execute_result"
        }
      ],
      "source": [
        "bm25_retrieval_chain.invoke({\"question\" : \"Did people generally like John Wick?\"})[\"response\"].content"
      ]
    },
    {
      "cell_type": "code",
      "execution_count": 18,
      "metadata": {
        "colab": {
          "base_uri": "https://localhost:8080/",
          "height": 36
        },
        "id": "igfinyneSQkh",
        "outputId": "9752d4a9-dd16-45b1-f63f-a76e93a05eb3"
      },
      "outputs": [
        {
          "data": {
            "text/plain": [
              "'Based on the provided reviews, none of the reviews have a rating of 10. The highest ratings mentioned are 9, with some reviews at ratings of 1 and 4. Therefore, there are no reviews with a rating of 10, and I cannot provide URLs for such reviews.'"
            ]
          },
          "execution_count": 18,
          "metadata": {},
          "output_type": "execute_result"
        }
      ],
      "source": [
        "bm25_retrieval_chain.invoke({\"question\" : \"Do any reviews have a rating of 10? If so - can I have the URLs to those reviews?\"})[\"response\"].content"
      ]
    },
    {
      "cell_type": "code",
      "execution_count": 19,
      "metadata": {
        "colab": {
          "base_uri": "https://localhost:8080/",
          "height": 53
        },
        "id": "w0H7pV_USSMQ",
        "outputId": "bdead654-3109-4143-9a30-e1d6ca8dc534"
      },
      "outputs": [
        {
          "data": {
            "text/plain": [
              "'In the John Wick series, the story revolves around a skilled assassin named John Wick. The series depicts his actions following the death of his wife and the subsequent events that lead him into a series of intense and often brutal confrontations with other assassins and criminal elements. The movies are known for their highly choreographed action scenes, emotional depth, and a detailed underworld of organized crime and assassin societies. Over the course of the series, John Wick battles various enemies, seeks revenge, and navigates a complex world of assassin rules and alliances.'"
            ]
          },
          "execution_count": 19,
          "metadata": {},
          "output_type": "execute_result"
        }
      ],
      "source": [
        "bm25_retrieval_chain.invoke({\"question\" : \"What happened in John Wick?\"})[\"response\"].content"
      ]
    },
    {
      "cell_type": "markdown",
      "metadata": {
        "id": "zvg5xHaUdxCl"
      },
      "source": [
        "It's not clear that this is better or worse - but the `I don't know` isn't great!"
      ]
    },
    {
      "cell_type": "markdown",
      "metadata": {
        "id": "Q-dcbFn2vpZF"
      },
      "source": [
        "## Task 6: Contextual Compression (Using Reranking)\n",
        "\n",
        "Contextual Compression is a fairly straightforward idea: We want to \"compress\" our retrieved context into just the most useful bits.\n",
        "\n",
        "There are a few ways we can achieve this - but we're going to look at a specific example called reranking.\n",
        "\n",
        "The basic idea here is this:\n",
        "\n",
        "- We retrieve lots of documents that are very likely related to our query vector\n",
        "- We \"compress\" those documents into a smaller set of *more* related documents using a reranking algorithm.\n",
        "\n",
        "We'll be leveraging Cohere's Rerank model for our reranker today!\n",
        "\n",
        "All we need to do is the following:\n",
        "\n",
        "- Create a basic retriever\n",
        "- Create a compressor (reranker, in this case)\n",
        "\n",
        "That's it!\n",
        "\n",
        "Let's see it in the code below!"
      ]
    },
    {
      "cell_type": "code",
      "execution_count": 20,
      "metadata": {
        "id": "psHvO2K1v_ZQ"
      },
      "outputs": [],
      "source": [
        "from langchain.retrievers.contextual_compression import ContextualCompressionRetriever\n",
        "from langchain_cohere import CohereRerank\n",
        "\n",
        "compressor = CohereRerank(model=\"rerank-english-v3.0\")\n",
        "compression_retriever = ContextualCompressionRetriever(\n",
        "    base_compressor=compressor, base_retriever=naive_retriever\n",
        ")"
      ]
    },
    {
      "cell_type": "markdown",
      "metadata": {
        "id": "_TA9RB2x-j7P"
      },
      "source": [
        "Let's create our chain again, and see how this does!"
      ]
    },
    {
      "cell_type": "code",
      "execution_count": 21,
      "metadata": {
        "id": "1BXqmxvHwX6T"
      },
      "outputs": [],
      "source": [
        "contextual_compression_retrieval_chain = (\n",
        "    {\"context\": itemgetter(\"question\") | compression_retriever, \"question\": itemgetter(\"question\")}\n",
        "    | RunnablePassthrough.assign(context=itemgetter(\"context\"))\n",
        "    | {\"response\": rag_prompt | chat_model, \"context\": itemgetter(\"context\")}\n",
        ")"
      ]
    },
    {
      "cell_type": "code",
      "execution_count": 22,
      "metadata": {
        "colab": {
          "base_uri": "https://localhost:8080/",
          "height": 36
        },
        "id": "V3iGpokswcBb",
        "outputId": "f15d2aa1-5e8b-417d-f623-eb835d072e59"
      },
      "outputs": [
        {
          "data": {
            "text/plain": [
              "'Based on the reviews provided, people generally liked John Wick. The first two reviews are highly positive, with ratings of 9 and 10 out of 10, praising its action sequences, style, and overall entertainment value. However, there is a less favorable review of the third film, with a rating of 5 out of 10, mentioning that \"the magic is gone.\" Overall, the majority of the reviews suggest that people generally enjoyed the film series when it was first released.'"
            ]
          },
          "execution_count": 22,
          "metadata": {},
          "output_type": "execute_result"
        }
      ],
      "source": [
        "contextual_compression_retrieval_chain.invoke({\"question\" : \"Did people generally like John Wick?\"})[\"response\"].content"
      ]
    },
    {
      "cell_type": "code",
      "execution_count": 23,
      "metadata": {
        "colab": {
          "base_uri": "https://localhost:8080/",
          "height": 53
        },
        "id": "7u_k0i4OweUd",
        "outputId": "be5fccc8-2352-4189-c524-bbeaa28cf799"
      },
      "outputs": [
        {
          "data": {
            "text/plain": [
              "'Yes, there are reviews with a rating of 10. Here are the URLs to those reviews:\\n\\n1. Review Title: \"A Masterpiece & Brilliant Sequel\"  \\n   URL: [https://yourdomain.com/review/rw4854296/?ref_=tt_urv](https://yourdomain.com/review/rw4854296/?ref_=tt_urv)\\n\\n2. Review Title: \"Most American action flicks released these days have poor screenplays and overuse computer-generated imagery.\"  \\n   URL: [https://yourdomain.com/review/rw4860412/?ref_=tt_urv](https://yourdomain.com/review/rw4860412/?ref_=tt_urv)\\n\\nPlease note that the URLs are based on the review data provided.'"
            ]
          },
          "execution_count": 23,
          "metadata": {},
          "output_type": "execute_result"
        }
      ],
      "source": [
        "contextual_compression_retrieval_chain.invoke({\"question\" : \"Do any reviews have a rating of 10? If so - can I have the URLs to those reviews?\"})[\"response\"].content"
      ]
    },
    {
      "cell_type": "code",
      "execution_count": 24,
      "metadata": {
        "colab": {
          "base_uri": "https://localhost:8080/",
          "height": 70
        },
        "id": "zn1EqaGqweXN",
        "outputId": "42bc5972-4164-46eb-f49d-4272f39bb89b"
      },
      "outputs": [
        {
          "data": {
            "text/plain": [
              "'In the \"John Wick\" film series, the story follows a retired hitman named John Wick (played by Keanu Reeves) who is drawn back into a violent world of crime. In the first movie, he seeks revenge after gangsters kill his beloved dog and steal his car, which are the last remnants of his late wife. As he pursues justice, he becomes entangled with the Russian mafia and a criminal underworld governed by strict rules and codes. He eventually seeks vengeance against those who wronged him, leading to a series of brutal action scenes and confrontations. In the second installment, Wick is drawn back into the criminal underworld when Santino D\\'Antonio, a mobster, seeks his help to eliminate his sister so he can rise to power. When Wick refuses and later executes Santino\\'s request, Santino retaliates by placing a contract on Wick\\'s life, putting him in the crosshairs of professional killers. Throughout the series, Wick\\'s actions have significant consequences, and he navigates a dangerous underworld filled with rules, honor, and deadly conflicts.'"
            ]
          },
          "execution_count": 24,
          "metadata": {},
          "output_type": "execute_result"
        }
      ],
      "source": [
        "contextual_compression_retrieval_chain.invoke({\"question\" : \"What happened in John Wick?\"})[\"response\"].content"
      ]
    },
    {
      "cell_type": "markdown",
      "metadata": {
        "id": "OEbT0g2S-mZ4"
      },
      "source": [
        "We'll need to rely on something like Ragas to help us get a better sense of how this is performing overall - but it \"feels\" better!"
      ]
    },
    {
      "cell_type": "markdown",
      "metadata": {
        "id": "qqbghrBEQNn5"
      },
      "source": [
        "## Task 7: Multi-Query Retriever\n",
        "\n",
        "Typically in RAG we have a single query - the one provided by the user.\n",
        "\n",
        "What if we had....more than one query!\n",
        "\n",
        "In essence, a Multi-Query Retriever works by:\n",
        "\n",
        "1. Taking the original user query and creating `n` number of new user queries using an LLM.\n",
        "2. Retrieving documents for each query.\n",
        "3. Using all unique retrieved documents as context\n",
        "\n",
        "So, how is it to set-up? Not bad! Let's see it down below!\n",
        "\n"
      ]
    },
    {
      "cell_type": "code",
      "execution_count": 25,
      "metadata": {
        "id": "pfM26ReXQjzU"
      },
      "outputs": [],
      "source": [
        "from langchain.retrievers.multi_query import MultiQueryRetriever\n",
        "\n",
        "multi_query_retriever = MultiQueryRetriever.from_llm(\n",
        "    retriever=naive_retriever, llm=chat_model\n",
        ")"
      ]
    },
    {
      "cell_type": "code",
      "execution_count": 26,
      "metadata": {
        "id": "1vRc129jQ5WW"
      },
      "outputs": [],
      "source": [
        "multi_query_retrieval_chain = (\n",
        "    {\"context\": itemgetter(\"question\") | multi_query_retriever, \"question\": itemgetter(\"question\")}\n",
        "    | RunnablePassthrough.assign(context=itemgetter(\"context\"))\n",
        "    | {\"response\": rag_prompt | chat_model, \"context\": itemgetter(\"context\")}\n",
        ")"
      ]
    },
    {
      "cell_type": "code",
      "execution_count": 27,
      "metadata": {
        "colab": {
          "base_uri": "https://localhost:8080/",
          "height": 53
        },
        "id": "CGgNuOb3Q3M9",
        "outputId": "c5273ecf-da35-40b8-fbdb-0f8beab425f7"
      },
      "outputs": [
        {
          "data": {
            "text/plain": [
              "\"Based on the reviews provided, people generally liked John Wick. Many reviews mention that the film is highly entertaining, well-choreographed, stylish, and fun, especially highlighting its action sequences and Keanu Reeves' performance. Several reviews give high ratings and express enthusiasm for the movie, indicating that overall, viewers enjoyed it. However, there are some mixed opinions and critiques about the later sequels, but the general sentiment toward the first film and the series as a whole suggests that people generally liked John Wick.\""
            ]
          },
          "execution_count": 27,
          "metadata": {},
          "output_type": "execute_result"
        }
      ],
      "source": [
        "multi_query_retrieval_chain.invoke({\"question\" : \"Did people generally like John Wick?\"})[\"response\"].content"
      ]
    },
    {
      "cell_type": "code",
      "execution_count": 28,
      "metadata": {
        "colab": {
          "base_uri": "https://localhost:8080/",
          "height": 36
        },
        "id": "aAlSthxrRDBC",
        "outputId": "230ff807-23ae-4d25-8d11-cfdbed0b77cb"
      },
      "outputs": [
        {
          "data": {
            "text/plain": [
              "'Yes, there are reviews with a rating of 10. One such review is for \"John Wick 3\" with the URL: /review/rw4854296/?ref_=tt_urv.'"
            ]
          },
          "execution_count": 28,
          "metadata": {},
          "output_type": "execute_result"
        }
      ],
      "source": [
        "multi_query_retrieval_chain.invoke({\"question\" : \"Do any reviews have a rating of 10? If so - can I have the URLs to those reviews?\"})[\"response\"].content"
      ]
    },
    {
      "cell_type": "code",
      "execution_count": 29,
      "metadata": {
        "colab": {
          "base_uri": "https://localhost:8080/",
          "height": 88
        },
        "id": "Uv1mpCK8REs4",
        "outputId": "00fbc22a-ed9b-4613-9695-0b179e3f8369"
      },
      "outputs": [
        {
          "data": {
            "text/plain": [
              "\"In the John Wick series, the story revolves around John Wick, a retired assassin who is drawn back into a world of violence and crime after personal tragedies and conflicts with powerful criminal organizations. The movies depict his quest for vengeance, his battles against numerous enemies, and the complex rules and hierarchies of the assassination underworld. The series is known for its stylized, high-octane action sequences, choreographed combat scenes, and a detailed depiction of a secret society of killers. Each installment explores the consequences of Wick's actions and the expanding global universe of assassins, with themes of revenge, loyalty, and the costs of a life of crime.\""
            ]
          },
          "execution_count": 29,
          "metadata": {},
          "output_type": "execute_result"
        }
      ],
      "source": [
        "multi_query_retrieval_chain.invoke({\"question\" : \"What happened in John Wick?\"})[\"response\"].content"
      ]
    },
    {
      "cell_type": "markdown",
      "metadata": {
        "id": "EDEawBf_d_3G"
      },
      "source": [
        "## Task 8: Parent Document Retriever\n",
        "\n",
        "A \"small-to-big\" strategy - the Parent Document Retriever works based on a simple strategy:\n",
        "\n",
        "1. Each un-split \"document\" will be designated as a \"parent document\" (You could use larger chunks of document as well, but our data format allows us to consider the overall document as the parent chunk)\n",
        "2. Store those \"parent documents\" in a memory store (not a VectorStore)\n",
        "3. We will chunk each of those documents into smaller documents, and associate them with their respective parents, and store those in a VectorStore. We'll call those \"child chunks\".\n",
        "4. When we query our Retriever, we will do a similarity search comparing our query vector to the \"child chunks\".\n",
        "5. Instead of returning the \"child chunks\", we'll return their associated \"parent chunks\".\n",
        "\n",
        "Okay, maybe that was a few steps - but the basic idea is this:\n",
        "\n",
        "- Search for small documents\n",
        "- Return big documents\n",
        "\n",
        "The intuition is that we're likely to find the most relevant information by limiting the amount of semantic information that is encoded in each embedding vector - but we're likely to miss relevant surrounding context if we only use that information.\n",
        "\n",
        "Let's start by creating our \"parent documents\" and defining a `RecursiveCharacterTextSplitter`."
      ]
    },
    {
      "cell_type": "code",
      "execution_count": 30,
      "metadata": {
        "id": "qJ53JJuMd_ZH"
      },
      "outputs": [],
      "source": [
        "from langchain.retrievers import ParentDocumentRetriever\n",
        "from langchain.storage import InMemoryStore\n",
        "from langchain_text_splitters import RecursiveCharacterTextSplitter\n",
        "from qdrant_client import QdrantClient, models\n",
        "\n",
        "parent_docs = documents\n",
        "child_splitter = RecursiveCharacterTextSplitter(chunk_size=200)"
      ]
    },
    {
      "cell_type": "markdown",
      "metadata": {
        "id": "oOpXfVUH3gL3"
      },
      "source": [
        "We'll need to set up a new QDrant vectorstore - and we'll use another useful pattern to do so!\n",
        "\n",
        "> NOTE: We are manually defining our embedding dimension, you'll need to change this if you're using a different embedding model."
      ]
    },
    {
      "cell_type": "code",
      "execution_count": 31,
      "metadata": {
        "colab": {
          "base_uri": "https://localhost:8080/"
        },
        "id": "rzFc-_9HlGQ-",
        "outputId": "223662dd-c36f-42f7-d1b0-b086e571484e"
      },
      "outputs": [
        {
          "name": "stderr",
          "output_type": "stream",
          "text": [
            "/var/folders/54/x_4x8xps7lqf2rzdt9mhf_y80000gn/T/ipykernel_45566/3574430551.py:8: LangChainDeprecationWarning: The class `Qdrant` was deprecated in LangChain 0.0.37 and will be removed in 1.0. An updated version of the class exists in the :class:`~langchain-qdrant package and should be used instead. To use it run `pip install -U :class:`~langchain-qdrant` and import as `from :class:`~langchain_qdrant import Qdrant``.\n",
            "  parent_document_vectorstore = Qdrant(\n"
          ]
        }
      ],
      "source": [
        "client = QdrantClient(location=\":memory:\")\n",
        "\n",
        "client.create_collection(\n",
        "    collection_name=\"full_documents\",\n",
        "    vectors_config=models.VectorParams(size=1536, distance=models.Distance.COSINE)\n",
        ")\n",
        "\n",
        "parent_document_vectorstore = Qdrant(\n",
        "    collection_name=\"full_documents\", embeddings=OpenAIEmbeddings(model=\"text-embedding-3-small\"), client=client\n",
        ")"
      ]
    },
    {
      "cell_type": "markdown",
      "metadata": {
        "id": "sf_g95FA3s6w"
      },
      "source": [
        "Now we can create our `InMemoryStore` that will hold our \"parent documents\" - and build our retriever!"
      ]
    },
    {
      "cell_type": "code",
      "execution_count": 32,
      "metadata": {
        "id": "BpWVjPf4fLUp"
      },
      "outputs": [],
      "source": [
        "store = InMemoryStore()\n",
        "\n",
        "parent_document_retriever = ParentDocumentRetriever(\n",
        "    vectorstore = parent_document_vectorstore,\n",
        "    docstore=store,\n",
        "    child_splitter=child_splitter,\n",
        ")"
      ]
    },
    {
      "cell_type": "markdown",
      "metadata": {
        "id": "KoYmSWfE32Zo"
      },
      "source": [
        "By default, this is empty as we haven't added any documents - let's add some now!"
      ]
    },
    {
      "cell_type": "code",
      "execution_count": 33,
      "metadata": {
        "id": "iQ2ZzfKigMZc"
      },
      "outputs": [],
      "source": [
        "parent_document_retriever.add_documents(parent_docs, ids=None)"
      ]
    },
    {
      "cell_type": "markdown",
      "metadata": {
        "id": "bI7Tip1335rE"
      },
      "source": [
        "We'll create the same chain we did before - but substitute our new `parent_document_retriever`."
      ]
    },
    {
      "cell_type": "code",
      "execution_count": 34,
      "metadata": {
        "id": "Qq_adt2KlSqp"
      },
      "outputs": [],
      "source": [
        "parent_document_retrieval_chain = (\n",
        "    {\"context\": itemgetter(\"question\") | parent_document_retriever, \"question\": itemgetter(\"question\")}\n",
        "    | RunnablePassthrough.assign(context=itemgetter(\"context\"))\n",
        "    | {\"response\": rag_prompt | chat_model, \"context\": itemgetter(\"context\")}\n",
        ")"
      ]
    },
    {
      "cell_type": "markdown",
      "metadata": {
        "id": "jNolUVQb4Apt"
      },
      "source": [
        "Let's give it a whirl!"
      ]
    },
    {
      "cell_type": "code",
      "execution_count": 35,
      "metadata": {
        "colab": {
          "base_uri": "https://localhost:8080/",
          "height": 70
        },
        "id": "TXB5i89Zly5W",
        "outputId": "94c240be-7c5b-4c58-9eee-56d93285a054"
      },
      "outputs": [
        {
          "data": {
            "text/plain": [
              "\"Based on the reviews provided, people's opinions on John Wick are mixed. Some reviews are very positive, praising the series and the first film highly, while at least one review is quite negative, criticizing John Wick 4 specifically. Overall, it seems that many people do like or appreciate the series, but there are also some who did not enjoy John Wick 4.\""
            ]
          },
          "execution_count": 35,
          "metadata": {},
          "output_type": "execute_result"
        }
      ],
      "source": [
        "parent_document_retrieval_chain.invoke({\"question\" : \"Did people generally like John Wick?\"})[\"response\"].content"
      ]
    },
    {
      "cell_type": "code",
      "execution_count": 36,
      "metadata": {
        "colab": {
          "base_uri": "https://localhost:8080/",
          "height": 36
        },
        "id": "V5F1T-wNl3cg",
        "outputId": "9b81e72e-5db7-4b8a-b25b-400ea0df5335"
      },
      "outputs": [
        {
          "data": {
            "text/plain": [
              "'Yes, there is a review with a rating of 10. The URL to that review is /review/rw4854296/?ref_=tt_urv.'"
            ]
          },
          "execution_count": 36,
          "metadata": {},
          "output_type": "execute_result"
        }
      ],
      "source": [
        "parent_document_retrieval_chain.invoke({\"question\" : \"Do any reviews have a rating of 10? If so - can I have the URLs to those reviews?\"})[\"response\"].content"
      ]
    },
    {
      "cell_type": "code",
      "execution_count": 37,
      "metadata": {
        "colab": {
          "base_uri": "https://localhost:8080/",
          "height": 70
        },
        "id": "ZqARszGzvGcG",
        "outputId": "8867f83c-db13-4db4-d57f-9bd51d32cd8a"
      },
      "outputs": [
        {
          "data": {
            "text/plain": [
              "'In the John Wick movies, the story follows John Wick, a retired assassin played by Keanu Reeves. In the first film, he comes out of retirement after a gang of Russian mobsters steals his car and kills his dog, which was a gift from his deceased wife, leading him to seek violent revenge. The film is known for its intense action, shootouts, and fighting scenes.\\n\\nIn the second film, the story continues with John Wick still involved in the world of assassins. He is compelled to assist a former associate in Italy to settle an old debt, which involves traveling to Italy, Canada, and Manhattan, and fighting numerous enemies. The movie emphasizes the consequences of his actions and features even more action and violence.\\n\\nThe third film, not described in detail here but part of the series, continues to follow John Wick as he faces new enemies and challenges while trying to escape the deadly world he’s entangled in.\\n\\nOverall, the series depicts John Wick’s relentless quest for vengeance, survival, and freedom from the violent life he’s been pulled back into.'"
            ]
          },
          "execution_count": 37,
          "metadata": {},
          "output_type": "execute_result"
        }
      ],
      "source": [
        "parent_document_retrieval_chain.invoke({\"question\" : \"What happened in John Wick?\"})[\"response\"].content"
      ]
    },
    {
      "cell_type": "markdown",
      "metadata": {
        "id": "B41cj42s4DPM"
      },
      "source": [
        "Overall, the performance *seems* largely the same. We can leverage a tool like [Ragas]() to more effectively answer the question about the performance."
      ]
    },
    {
      "cell_type": "markdown",
      "metadata": {
        "id": "VUrIBKl_TwS9"
      },
      "source": [
        "## Task 9: Ensemble Retriever\n",
        "\n",
        "In brief, an Ensemble Retriever simply takes 2, or more, retrievers and combines their retrieved documents based on a rank-fusion algorithm.\n",
        "\n",
        "In this case - we're using the [Reciprocal Rank Fusion](https://plg.uwaterloo.ca/~gvcormac/cormacksigir09-rrf.pdf) algorithm.\n",
        "\n",
        "Setting it up is as easy as providing a list of our desired retrievers - and the weights for each retriever."
      ]
    },
    {
      "cell_type": "code",
      "execution_count": 38,
      "metadata": {
        "id": "8j7jpZsKTxic"
      },
      "outputs": [],
      "source": [
        "from langchain.retrievers import EnsembleRetriever\n",
        "\n",
        "retriever_list = [bm25_retriever, naive_retriever, parent_document_retriever, compression_retriever, multi_query_retriever]\n",
        "equal_weighting = [1/len(retriever_list)] * len(retriever_list)\n",
        "\n",
        "ensemble_retriever = EnsembleRetriever(\n",
        "    retrievers=retriever_list, weights=equal_weighting\n",
        ")"
      ]
    },
    {
      "cell_type": "markdown",
      "metadata": {
        "id": "kpo9Psl5hhJ-"
      },
      "source": [
        "We'll pack *all* of these retrievers together in an ensemble."
      ]
    },
    {
      "cell_type": "code",
      "execution_count": 39,
      "metadata": {
        "id": "KZ__EZwpUKkd"
      },
      "outputs": [],
      "source": [
        "ensemble_retrieval_chain = (\n",
        "    {\"context\": itemgetter(\"question\") | ensemble_retriever, \"question\": itemgetter(\"question\")}\n",
        "    | RunnablePassthrough.assign(context=itemgetter(\"context\"))\n",
        "    | {\"response\": rag_prompt | chat_model, \"context\": itemgetter(\"context\")}\n",
        ")"
      ]
    },
    {
      "cell_type": "markdown",
      "metadata": {
        "id": "SSsvHpRMj24L"
      },
      "source": [
        "Let's look at our results!"
      ]
    },
    {
      "cell_type": "code",
      "execution_count": 40,
      "metadata": {
        "colab": {
          "base_uri": "https://localhost:8080/",
          "height": 70
        },
        "id": "0lMvqL88UQI-",
        "outputId": "d86dd5f7-0a13-4836-c0ce-cc4c431fd889"
      },
      "outputs": [
        {
          "data": {
            "text/plain": [
              "\"Based on the reviews provided, people generally liked John Wick. Many reviews are highly positive, praising its action sequences, style, and Keanu Reeves' performance, with ratings often around 8 or 9 out of 10. However, there are some negative reviews as well, with a few people giving low scores or criticizing the plot and action scenes. Overall, the majority of the reviews indicate that people appreciated and enjoyed the film series.\""
            ]
          },
          "execution_count": 40,
          "metadata": {},
          "output_type": "execute_result"
        }
      ],
      "source": [
        "ensemble_retrieval_chain.invoke({\"question\" : \"Did people generally like John Wick?\"})[\"response\"].content"
      ]
    },
    {
      "cell_type": "code",
      "execution_count": 41,
      "metadata": {
        "colab": {
          "base_uri": "https://localhost:8080/",
          "height": 53
        },
        "id": "MNFWLYECURI1",
        "outputId": "b17973b5-66a9-4481-97d5-880b5754b5c5"
      },
      "outputs": [
        {
          "data": {
            "text/plain": [
              "'Yes, there are reviews with a rating of 10. One such review is for \"John Wick 3,\" and the URL to that review is:\\n\\n[https://example.com/review/rw4854296/?ref_=tt_urv](https://example.com/review/rw4854296/?ref_=tt_urv)\\n\\n(Note: The actual URL based on the data provided is \"/review/rw4854296/?ref_=tt_urv\". If you need the full web address, it would depend on the website\\'s base URL.)'"
            ]
          },
          "execution_count": 41,
          "metadata": {},
          "output_type": "execute_result"
        }
      ],
      "source": [
        "ensemble_retrieval_chain.invoke({\"question\" : \"Do any reviews have a rating of 10? If so - can I have the URLs to those reviews?\"})[\"response\"].content"
      ]
    },
    {
      "cell_type": "code",
      "execution_count": 42,
      "metadata": {
        "colab": {
          "base_uri": "https://localhost:8080/",
          "height": 88
        },
        "id": "A7qbHfWgUR4c",
        "outputId": "f7373144-59ef-4fc7-b75d-ca00e7df881e"
      },
      "outputs": [
        {
          "data": {
            "text/plain": [
              "'In the John Wick film series, the story centers around John Wick, a retired and highly skilled assassin. The key events are as follows:\\n\\n- In the first film, John Wick comes out of retirement after thugs steal his car and kill his dog, which was a gift from his deceased wife. This act of violence propels him into a violent quest for revenge, leading to a series of brutal confrontations with gangsters and hitmen.\\n\\n- The second film continues shortly after the first, with John being pressured to help a crime boss in Italy by killing his target to settle an old debt. This leads to further violence, including a massive amount of combat with many assassins hunting him due to a contract on his life.\\n\\n- In the third film, John seeks to escape his violent life but is drawn back into the underworld when a former ally forces him to kill his sister in exchange for a favor. After completing the task, he becomes a target of a global bounty, and his fight for survival continues with intense action sequences.\\n\\nThroughout the series, John Wick is portrayed as a formidable and relentless killer driven by themes of revenge, loyalty, and the desire for peace, which are repeatedly shattered by the violent world he inhabits.'"
            ]
          },
          "execution_count": 42,
          "metadata": {},
          "output_type": "execute_result"
        }
      ],
      "source": [
        "ensemble_retrieval_chain.invoke({\"question\" : \"What happened in John Wick?\"})[\"response\"].content"
      ]
    },
    {
      "cell_type": "markdown",
      "metadata": {
        "id": "MopbkNJAXVaN"
      },
      "source": [
        "## Task 10: Semantic Chunking\n",
        "\n",
        "While this is not a retrieval method - it *is* an effective way of increasing retrieval performance on corpora that have clean semantic breaks in them.\n",
        "\n",
        "Essentially, Semantic Chunking is implemented by:\n",
        "\n",
        "1. Embedding all sentences in the corpus.\n",
        "2. Combining or splitting sequences of sentences based on their semantic similarity based on a number of [possible thresholding methods](https://python.langchain.com/docs/how_to/semantic-chunker/):\n",
        "  - `percentile`\n",
        "  - `standard_deviation`\n",
        "  - `interquartile`\n",
        "  - `gradient`\n",
        "3. Each sequence of related sentences is kept as a document!\n",
        "\n",
        "Let's see how to implement this!\n",
        "\n",
        "> NOTE: You do not need to run this cell if you're running this locally"
      ]
    },
    {
      "cell_type": "code",
      "execution_count": 43,
      "metadata": {
        "colab": {
          "base_uri": "https://localhost:8080/"
        },
        "id": "1dHeB-yGXneL",
        "outputId": "efc59105-518a-4134-9228-d98b8a97e08e"
      },
      "outputs": [],
      "source": [
        "#!pip install -qU langchain_experimental"
      ]
    },
    {
      "cell_type": "markdown",
      "metadata": {
        "id": "U9ciZbFEldv_"
      },
      "source": [
        "We'll use the `percentile` thresholding method for this example which will:\n",
        "\n",
        "Calculate all distances between sentences, and then break apart sequences of setences that exceed a given percentile among all distances."
      ]
    },
    {
      "cell_type": "code",
      "execution_count": 43,
      "metadata": {
        "id": "66EIEWiEYl5y"
      },
      "outputs": [],
      "source": [
        "from langchain_experimental.text_splitter import SemanticChunker\n",
        "\n",
        "semantic_chunker = SemanticChunker(\n",
        "    embeddings,\n",
        "    breakpoint_threshold_type=\"percentile\"\n",
        ")"
      ]
    },
    {
      "cell_type": "markdown",
      "metadata": {
        "id": "YqoKmz12mhRW"
      },
      "source": [
        "Now we can split our documents."
      ]
    },
    {
      "cell_type": "code",
      "execution_count": 44,
      "metadata": {
        "id": "ROcV7o68ZIq7"
      },
      "outputs": [],
      "source": [
        "semantic_documents = semantic_chunker.split_documents(documents)"
      ]
    },
    {
      "cell_type": "markdown",
      "metadata": {
        "id": "L8-LNC-Xmjex"
      },
      "source": [
        "Let's create a new vector store."
      ]
    },
    {
      "cell_type": "code",
      "execution_count": 45,
      "metadata": {
        "id": "h3sl9QjyZhIe"
      },
      "outputs": [],
      "source": [
        "semantic_vectorstore = Qdrant.from_documents(\n",
        "    semantic_documents,\n",
        "    embeddings,\n",
        "    location=\":memory:\",\n",
        "    collection_name=\"JohnWickSemantic\"\n",
        ")"
      ]
    },
    {
      "cell_type": "markdown",
      "metadata": {
        "id": "Eh_r_-LHmmKn"
      },
      "source": [
        "We'll use naive retrieval for this example."
      ]
    },
    {
      "cell_type": "code",
      "execution_count": 46,
      "metadata": {
        "id": "odVyDUHwZftc"
      },
      "outputs": [],
      "source": [
        "semantic_retriever = semantic_vectorstore.as_retriever(search_kwargs={\"k\" : 10})"
      ]
    },
    {
      "cell_type": "code",
      "execution_count": 47,
      "metadata": {},
      "outputs": [
        {
          "name": "stderr",
          "output_type": "stream",
          "text": [
            "/var/folders/54/x_4x8xps7lqf2rzdt9mhf_y80000gn/T/ipykernel_45566/489839785.py:1: LangChainDeprecationWarning: The method `BaseRetriever.get_relevant_documents` was deprecated in langchain-core 0.1.46 and will be removed in 1.0. Use :meth:`~invoke` instead.\n",
            "  retrieve_test = semantic_retriever.get_relevant_documents(\"What happened in John Wick?\")\n"
          ]
        },
        {
          "name": "stdout",
          "output_type": "stream",
          "text": [
            "[Document(metadata={'source': 'john_wick_1.csv', 'row': 0, 'Review_Date': '6 May 2015', 'Review_Title': ' Kinetic, concise, and stylish; John Wick kicks ass.\\n', 'Review_Url': '/review/rw3233896/?ref_=tt_urv', 'Author': 'lnvicta', 'Rating': 8, 'Movie_Title': 'John Wick 1', 'last_accessed_at': '2025-05-13T10:11:07.491393', '_id': '9394ff4cb8cc49f9816159bb25d3cf93', '_collection_name': 'JohnWickSemantic'}, page_content=\"John Wick (Reeves) is out to seek revenge on the people who took something he loved from him. It's a beautifully simple premise for an action movie - when action movies get convoluted, they get bad i.e. A Good Day to Die Hard. John Wick gives the viewers what they want: Awesome action, stylish stunts, kinetic chaos, and a relatable hero to tie it all together. John Wick succeeds in its simplicity.\"), Document(metadata={'source': 'john_wick_2.csv', 'row': 19, 'Review_Date': '29 November 2020', 'Review_Title': ' John Wick Kills A Lot Of People\\n', 'Review_Url': '/review/rw6320115/?ref_=tt_urv', 'Author': 'boblipton', 'Rating': 5, 'Movie_Title': 'John Wick 2', 'last_accessed_at': '2025-05-14T10:11:07.491676', '_id': '26ff8dbe79a9450b9fd3527e7547e05d', '_collection_name': 'JohnWickSemantic'}, page_content=\": 19\\nReview: If you've seen the first John Wick movie, you know that Keanu Reeves is John Wick, a retired assassin who comes out of retirement when someone kills his dog. In this one, which begins a week later, matters are still reverberating, and some one has stolen his car, which calls for a lot of carnage.\"), Document(metadata={'source': 'john_wick_1.csv', 'row': 5, 'Review_Date': '23 March 2023', 'Review_Title': ' Violent and gripping story with plenty of unstopped action , shootouts and breathtaking fights\\n', 'Review_Url': '/review/rw8945545/?ref_=tt_urv', 'Author': 'ma-cortes', 'Rating': 7, 'Movie_Title': 'John Wick 1', 'last_accessed_at': '2025-05-13T10:11:07.491415', '_id': 'a0b1d5f5cbd8432394e2f47aba4566b2', '_collection_name': 'JohnWickSemantic'}, page_content=': 5\\nReview: Ultra-violent first entry with lots of killings, thrills , noisy action , suspense , and crossfire . In this original John Wick (2014) , an ex-hit-man comes out of retirement to track down the gangsters that killed his dog and took everything from him . With the untimely death of his beloved wife still bitter in his mouth he seeks for vengeance . But when an arrogant Russian mob prince and hoodlums steal his car and kill his dog , they are fully aware of his lethal capacity. The Bogeyman will find himself dragged into an impossible task as every killer in the business dreams of cornering the legendary Wick who now has an enormous price on his head . In this first installment John Wick , blind with revenge, and for his salvation John will immediately unleash a carefully orchestrated maelstrom of destruction against those attempt to chase him and with a price tag on his head, as he is the target of hit men : an army of bounty-hunting killers on his trail and a murderer woman everywhere . The legendary hitman will be forced to unearth his meticulously concealed identity and to carry out a relentless vendetta .'), Document(metadata={'source': 'john_wick_1.csv', 'row': 9, 'Review_Date': '20 October 2014', 'Review_Title': \" The coolest action film you'll see all year\\n\", 'Review_Url': '/review/rw3107759/?ref_=tt_urv', 'Author': 'trublu215', 'Rating': 9, 'Movie_Title': 'John Wick 1', 'last_accessed_at': '2025-05-13T10:11:07.491419', '_id': '60cf882c9ddf4e1f8f7cbcd9ee6dcb0b', '_collection_name': 'JohnWickSemantic'}, page_content=\"This is EXACTLY what you want out of an action film. It is briskly paced, brilliantly shot and meticulously choreographed and keeps you wanting more and more. The supporting cast filled with the likes of John Legiuzamo, Ian McShane, and Willen Dafoe also keeps this film very interesting. These guys don't play good guys, hell, John Wick by traditional standards would be a bad guy in any other film. Every character is more ruthless than the next and pushes John Wick to be more ruthless than they are, creating a very cool dynamic between the character and the plot regarding the idea of how far is too far? However, don't expect some revelation from John Wick regarding the morality of bad and evil. This film wants you entertained and does so with brute force, it never lets up, not even for a second. One scene in particular that will have your blood pumping is a showdown between thugs and Wick in a nightclub. This action sequence remains the best in the film and will have you grasping your theater seat because of the sheer intensity of it. Overall, John Wick is slick, violent fun that turns into a remarkable, surprising film that will catch you off guard. It is THAT good. I highly recommend this film to action buffs especially but I'm sure those who just like a good movie will love it as well.\"), Document(metadata={'source': 'john_wick_1.csv', 'row': 10, 'Review_Date': '22 November 2014', 'Review_Title': ' Most Excellent\\n', 'Review_Url': '/review/rw3128980/?ref_=tt_urv', 'Author': 'utgard14', 'Rating': 7, 'Movie_Title': 'John Wick 1', 'last_accessed_at': '2025-05-13T10:11:07.491420', '_id': '88277f10e61c41bab4abdca122f037de', '_collection_name': 'JohnWickSemantic'}, page_content=\"A few days later some thugs, led by the son of a Russian gangster John used to work for, break into John's house. They beat him up, take the keys to his beloved car, and kill the puppy. They did this not knowing who he was; they just wanted the car. Now John Wick is out for revenge and the Russian gangster is trying to save his son's life by sending killers after John.\"), Document(metadata={'source': 'john_wick_1.csv', 'row': 5, 'Review_Date': '23 March 2023', 'Review_Title': ' Violent and gripping story with plenty of unstopped action , shootouts and breathtaking fights\\n', 'Review_Url': '/review/rw8945545/?ref_=tt_urv', 'Author': 'ma-cortes', 'Rating': 7, 'Movie_Title': 'John Wick 1', 'last_accessed_at': '2025-05-13T10:11:07.491415', '_id': '358e945e085642d8a3b77e505135127a', '_collection_name': 'JohnWickSemantic'}, page_content=\". John Wick isn't the Boogeyman... He's the guy you send to kill the doomed Boogeyman. Revenge is all he has left. You want peace, prepare for war . Don't Hunt What You Can't Kill. Tick Tock, Mr. Wick. Everyone Is Waiting. For John Wick . Every Action Has Consequences. This Friday, Wick is Back . Its the World Vs. Wick. Every Action Has Consequences.\"), Document(metadata={'source': 'john_wick_3.csv', 'row': 5, 'Review_Date': '17 July 2019', 'Review_Title': ' The magic is gone\\n', 'Review_Url': '/review/rw4999970/?ref_=tt_urv', 'Author': 'soundoflight', 'Rating': 5, 'Movie_Title': 'John Wick 3', 'last_accessed_at': '2025-05-15T10:11:07.491885', '_id': 'f73b4d6fae664a38934ee27a94eb034d', '_collection_name': 'JohnWickSemantic'}, page_content='John Wick was cool.'), Document(metadata={'source': 'john_wick_1.csv', 'row': 20, 'Review_Date': '22 October 2014', 'Review_Title': ' Smoothest action film to come around in a long time\\n', 'Review_Url': '/review/rw3109271/?ref_=tt_urv', 'Author': 'IceSkateUpHill', 'Rating': 10, 'Movie_Title': 'John Wick 1', 'last_accessed_at': '2025-05-13T10:11:07.491429', '_id': '73f9461377d745eaafaaf2536bed1499', '_collection_name': 'JohnWickSemantic'}, page_content=\": 20\\nReview: John Wick is something special. It takes as much time setting up elaborate action sequences as it does the world with which it all takes place in. And what a world it is. It reminds me of Millers Crossing and it is cooler than any other recent attempt at noir. We are shown a criminal underworld where, if you are connected, many powerful people know who you are and show you respect. John Wick was connected but he got out. He is the rare killer who has found peace, and he is grateful for that peace. Some young kids steal that from him and he does what he does best, he wages a one man war against the Russian Mafia. It might sound like the film takes quite a leap but it all makes sense. The motives of John and the people who get in the way of his bullets are all very clear, even if it does come across as rather simple. That's the plot at it's most basic. Then there's the action. The film is directed by Reeve's stuntman from The Matrix, so this guy knows action. There are sequences that flow so smoothly it puts other action films and their quick cuts to shame. Keaunu moves so fluidly throughout the film and comes across as such a natural that the only disappointment is that we have not seen him like this before. Along the way are plenty of character actors, fans of The Matrix and The Wire will recognize a few people then there are more obvious ones like Ian McShane and Willem Dafoe. Everyone seems to be having a good time.\"), Document(metadata={'source': 'john_wick_1.csv', 'row': 18, 'Review_Date': '10 September 2019', 'Review_Title': ' Probably NOT a film to watch with your kids or mother.\\n', 'Review_Url': '/review/rw5112990/?ref_=tt_urv', 'Author': 'planktonrules', 'Rating': 7, 'Movie_Title': 'John Wick 1', 'last_accessed_at': '2025-05-13T10:11:07.491427', '_id': '675f5267f4f8456590d159af922e195f', '_collection_name': 'JohnWickSemantic'}, page_content=\"One day, he's getting gas and a young Russian-American punk notices Wick's classic car...and tries to buy it off him. But Wick isn't interested and declines. Soon, the punk arrives at Wick's home with some goons where they surprise him--beating him senseless, destroying his stuff, killing his dog and stealing his car! This is when you then learn that Wick is a super-assassin....and the punk chose the wrong guy to attack. The jerk's father is a big-time Russian mobster....and it's a contest to see who will win...the mobster and his gang or Wick on his own. Considering there are (so far) two MORE John Wick films, it pretty much seems certain who will win this battle.\"), Document(metadata={'source': 'john_wick_1.csv', 'row': 0, 'Review_Date': '6 May 2015', 'Review_Title': ' Kinetic, concise, and stylish; John Wick kicks ass.\\n', 'Review_Url': '/review/rw3233896/?ref_=tt_urv', 'Author': 'lnvicta', 'Rating': 8, 'Movie_Title': 'John Wick 1', 'last_accessed_at': '2025-05-13T10:11:07.491393', '_id': '741bc12c11b84acc8a1a1b4eb67dba8c', '_collection_name': 'JohnWickSemantic'}, page_content=\": 0\\nReview: The best way I can describe John Wick is to picture Taken but instead of Liam Neeson it's Keanu Reeves and instead of his daughter it's his dog. That's essentially the plot of the movie.\")]\n"
          ]
        }
      ],
      "source": [
        "retrieve_test = semantic_retriever.get_relevant_documents(\"What happened in John Wick?\")\n",
        "print(retrieve_test)"
      ]
    },
    {
      "cell_type": "markdown",
      "metadata": {
        "id": "Mkeiv_ojmp6G"
      },
      "source": [
        "Finally we can create our classic chain!"
      ]
    },
    {
      "cell_type": "code",
      "execution_count": 48,
      "metadata": {
        "id": "xWE_0J0mZveG"
      },
      "outputs": [],
      "source": [
        "semantic_retrieval_chain = (\n",
        "    {\"context\": itemgetter(\"question\") | semantic_retriever, \"question\": itemgetter(\"question\")}\n",
        "    | RunnablePassthrough.assign(context=itemgetter(\"context\"))\n",
        "    | {\"response\": rag_prompt | chat_model, \"context\": itemgetter(\"context\")}\n",
        ")"
      ]
    },
    {
      "cell_type": "markdown",
      "metadata": {
        "id": "R5pfjLQ3ms9_"
      },
      "source": [
        "And view the results!"
      ]
    },
    {
      "cell_type": "code",
      "execution_count": 49,
      "metadata": {
        "colab": {
          "base_uri": "https://localhost:8080/",
          "height": 70
        },
        "id": "0lN2j-e4Z0SD",
        "outputId": "ef483e21-7200-4dfc-b8bf-aed4f23587b2"
      },
      "outputs": [
        {
          "data": {
            "text/plain": [
              "'Based on the reviews provided, people generally liked John Wick. Many reviews are highly positive, praising the action, style, and entertainment value of the films, with ratings often around 8 to 10. However, there are some negative opinions as well, with a few reviews giving low ratings. Overall, the majority of reviews indicate that people tend to enjoy John Wick.'"
            ]
          },
          "execution_count": 49,
          "metadata": {},
          "output_type": "execute_result"
        }
      ],
      "source": [
        "semantic_retrieval_chain.invoke({\"question\" : \"Did people generally like John Wick?\"})[\"response\"].content"
      ]
    },
    {
      "cell_type": "code",
      "execution_count": 50,
      "metadata": {
        "colab": {
          "base_uri": "https://localhost:8080/",
          "height": 53
        },
        "id": "xdqfBH1SZ3f9",
        "outputId": "ed62b2d1-7586-46cc-aaf4-c54192a56155"
      },
      "outputs": [
        {
          "data": {
            "text/plain": [
              "'Yes, there is a review with a rating of 10. The URL to that review is: /review/rw4854296/?ref_=tt_urv'"
            ]
          },
          "execution_count": 50,
          "metadata": {},
          "output_type": "execute_result"
        }
      ],
      "source": [
        "semantic_retrieval_chain.invoke({\"question\" : \"Do any reviews have a rating of 10? If so - can I have the URLs to those reviews?\"})[\"response\"].content"
      ]
    },
    {
      "cell_type": "code",
      "execution_count": 51,
      "metadata": {
        "colab": {
          "base_uri": "https://localhost:8080/",
          "height": 70
        },
        "id": "rAcAObZnZ4o6",
        "outputId": "3f1cade3-41e4-4e42-ef71-048dd18e5e3a"
      },
      "outputs": [
        {
          "data": {
            "text/plain": [
              "\"In the movie John Wick, the story centers around a retired assassin named John Wick, played by Keanu Reeves. The film begins with a young Russian-American punk stealing Wick's car and later, along with some goons, breaking into his home, beating him up, killing his dog, and stealing his car. The dog was his last meaningful connection to his past life, making its death a catalyst for his quest for revenge.\\n\\nJohn Wick, who is highly skilled and legendary in his field, then comes out of retirement to seek vengeance against those who wronged him. As the story unfolds, he wages a relentless and violent war against the Russian gangsters involved, demonstrating his lethal capabilities and uncovering a criminal underworld filled with powerful and connected figures. The movie showcases intense action sequences, stylish violence, and a noir-inspired world as Wick's pursuit of justice puts everyone in his path at risk, ultimately revealing the depth of his skills and the consequences of his past life as an assassin.\""
            ]
          },
          "execution_count": 51,
          "metadata": {},
          "output_type": "execute_result"
        }
      ],
      "source": [
        "semantic_retrieval_chain.invoke({\"question\" : \"What happened in John Wick?\"})[\"response\"].content"
      ]
    },
    {
      "cell_type": "code",
      "execution_count": 52,
      "metadata": {},
      "outputs": [
        {
          "data": {
            "text/plain": [
              "[\"John Wick (Reeves) is out to seek revenge on the people who took something he loved from him. It's a beautifully simple premise for an action movie - when action movies get convoluted, they get bad i.e. A Good Day to Die Hard. John Wick gives the viewers what they want: Awesome action, stylish stunts, kinetic chaos, and a relatable hero to tie it all together. John Wick succeeds in its simplicity.\",\n",
              " \": 19\\nReview: If you've seen the first John Wick movie, you know that Keanu Reeves is John Wick, a retired assassin who comes out of retirement when someone kills his dog. In this one, which begins a week later, matters are still reverberating, and some one has stolen his car, which calls for a lot of carnage.\",\n",
              " ': 5\\nReview: Ultra-violent first entry with lots of killings, thrills , noisy action , suspense , and crossfire . In this original John Wick (2014) , an ex-hit-man comes out of retirement to track down the gangsters that killed his dog and took everything from him . With the untimely death of his beloved wife still bitter in his mouth he seeks for vengeance . But when an arrogant Russian mob prince and hoodlums steal his car and kill his dog , they are fully aware of his lethal capacity. The Bogeyman will find himself dragged into an impossible task as every killer in the business dreams of cornering the legendary Wick who now has an enormous price on his head . In this first installment John Wick , blind with revenge, and for his salvation John will immediately unleash a carefully orchestrated maelstrom of destruction against those attempt to chase him and with a price tag on his head, as he is the target of hit men : an army of bounty-hunting killers on his trail and a murderer woman everywhere . The legendary hitman will be forced to unearth his meticulously concealed identity and to carry out a relentless vendetta .',\n",
              " \"This is EXACTLY what you want out of an action film. It is briskly paced, brilliantly shot and meticulously choreographed and keeps you wanting more and more. The supporting cast filled with the likes of John Legiuzamo, Ian McShane, and Willen Dafoe also keeps this film very interesting. These guys don't play good guys, hell, John Wick by traditional standards would be a bad guy in any other film. Every character is more ruthless than the next and pushes John Wick to be more ruthless than they are, creating a very cool dynamic between the character and the plot regarding the idea of how far is too far? However, don't expect some revelation from John Wick regarding the morality of bad and evil. This film wants you entertained and does so with brute force, it never lets up, not even for a second. One scene in particular that will have your blood pumping is a showdown between thugs and Wick in a nightclub. This action sequence remains the best in the film and will have you grasping your theater seat because of the sheer intensity of it. Overall, John Wick is slick, violent fun that turns into a remarkable, surprising film that will catch you off guard. It is THAT good. I highly recommend this film to action buffs especially but I'm sure those who just like a good movie will love it as well.\",\n",
              " \"A few days later some thugs, led by the son of a Russian gangster John used to work for, break into John's house. They beat him up, take the keys to his beloved car, and kill the puppy. They did this not knowing who he was; they just wanted the car. Now John Wick is out for revenge and the Russian gangster is trying to save his son's life by sending killers after John.\",\n",
              " \". John Wick isn't the Boogeyman... He's the guy you send to kill the doomed Boogeyman. Revenge is all he has left. You want peace, prepare for war . Don't Hunt What You Can't Kill. Tick Tock, Mr. Wick. Everyone Is Waiting. For John Wick . Every Action Has Consequences. This Friday, Wick is Back . Its the World Vs. Wick. Every Action Has Consequences.\",\n",
              " 'John Wick was cool.',\n",
              " \": 20\\nReview: John Wick is something special. It takes as much time setting up elaborate action sequences as it does the world with which it all takes place in. And what a world it is. It reminds me of Millers Crossing and it is cooler than any other recent attempt at noir. We are shown a criminal underworld where, if you are connected, many powerful people know who you are and show you respect. John Wick was connected but he got out. He is the rare killer who has found peace, and he is grateful for that peace. Some young kids steal that from him and he does what he does best, he wages a one man war against the Russian Mafia. It might sound like the film takes quite a leap but it all makes sense. The motives of John and the people who get in the way of his bullets are all very clear, even if it does come across as rather simple. That's the plot at it's most basic. Then there's the action. The film is directed by Reeve's stuntman from The Matrix, so this guy knows action. There are sequences that flow so smoothly it puts other action films and their quick cuts to shame. Keaunu moves so fluidly throughout the film and comes across as such a natural that the only disappointment is that we have not seen him like this before. Along the way are plenty of character actors, fans of The Matrix and The Wire will recognize a few people then there are more obvious ones like Ian McShane and Willem Dafoe. Everyone seems to be having a good time.\",\n",
              " \"One day, he's getting gas and a young Russian-American punk notices Wick's classic car...and tries to buy it off him. But Wick isn't interested and declines. Soon, the punk arrives at Wick's home with some goons where they surprise him--beating him senseless, destroying his stuff, killing his dog and stealing his car! This is when you then learn that Wick is a super-assassin....and the punk chose the wrong guy to attack. The jerk's father is a big-time Russian mobster....and it's a contest to see who will win...the mobster and his gang or Wick on his own. Considering there are (so far) two MORE John Wick films, it pretty much seems certain who will win this battle.\",\n",
              " \": 0\\nReview: The best way I can describe John Wick is to picture Taken but instead of Liam Neeson it's Keanu Reeves and instead of his daughter it's his dog. That's essentially the plot of the movie.\"]"
            ]
          },
          "execution_count": 52,
          "metadata": {},
          "output_type": "execute_result"
        }
      ],
      "source": [
        "practice_line = semantic_retrieval_chain.invoke({\"question\" : \"What happened in John Wick?\"})\n",
        "\n",
        "practice_line_context = practice_line[\"context\"]\n",
        "practice_line_context_clean = [context.page_content for context in practice_line_context]\n",
        "\n",
        "practice_line_context_clean\n"
      ]
    },
    {
      "cell_type": "code",
      "execution_count": 53,
      "metadata": {},
      "outputs": [
        {
          "data": {
            "text/plain": [
              "10"
            ]
          },
          "execution_count": 53,
          "metadata": {},
          "output_type": "execute_result"
        }
      ],
      "source": [
        "len(practice_line_context_clean)"
      ]
    },
    {
      "cell_type": "code",
      "execution_count": 54,
      "metadata": {},
      "outputs": [
        {
          "data": {
            "text/plain": [
              "10"
            ]
          },
          "execution_count": 54,
          "metadata": {},
          "output_type": "execute_result"
        }
      ],
      "source": [
        "len(practice_line_context)"
      ]
    },
    {
      "cell_type": "code",
      "execution_count": 55,
      "metadata": {},
      "outputs": [
        {
          "data": {
            "text/plain": [
              "\"John Wick (Reeves) is out to seek revenge on the people who took something he loved from him. It's a beautifully simple premise for an action movie - when action movies get convoluted, they get bad i.e. A Good Day to Die Hard. John Wick gives the viewers what they want: Awesome action, stylish stunts, kinetic chaos, and a relatable hero to tie it all together. John Wick succeeds in its simplicity.\""
            ]
          },
          "execution_count": 55,
          "metadata": {},
          "output_type": "execute_result"
        }
      ],
      "source": [
        "practice_line_context_clean[0]"
      ]
    },
    {
      "cell_type": "markdown",
      "metadata": {
        "id": "xk2n3-pnVWDJ"
      },
      "source": [
        "# 🤝 Breakout Room Part #2"
      ]
    },
    {
      "cell_type": "markdown",
      "metadata": {
        "id": "2SkJLYwMVZkj"
      },
      "source": [
        "#### 🏗️ Activity #1\n",
        "\n",
        "Your task is to evaluate the various Retriever methods against eachother.\n",
        "\n",
        "You are expected to:\n",
        "\n",
        "1. Create a \"golden dataset\"\n",
        " - Use Synthetic Data Generation (powered by Ragas, or otherwise) to create this dataset\n",
        "2. Evaluate each retriever with *retriever specific* Ragas metrics\n",
        " - Semantic Chunking is not considered a retriever method and will not be required for marks, but you may find it useful to do a \"semantic chunking on\" vs. \"semantic chunking off\" comparision between them\n",
        "3. Compile these in a list and write a small paragraph about which is best for this particular data and why.\n",
        "\n",
        "Your analysis should factor in:\n",
        "  - Cost\n",
        "  - Latency\n",
        "  - Performance\n",
        "\n",
        "> NOTE: This is **NOT** required to be completed in class. Please spend time in your breakout rooms creating a plan before moving on to writing code."
      ]
    },
    {
      "cell_type": "markdown",
      "metadata": {
        "id": "TWAr16a5XMub"
      },
      "source": [
        "##### HINTS:\n",
        "\n",
        "- LangSmith provides detailed information about latency and cost."
      ]
    },
    {
      "cell_type": "markdown",
      "metadata": {},
      "source": [
        "### Let's first create a golden dataset using Ragas knowledge graph\n"
      ]
    },
    {
      "cell_type": "code",
      "execution_count": 56,
      "metadata": {
        "id": "tgDICngKXLGK"
      },
      "outputs": [],
      "source": [
        "# Using gpt 4.1-nano to prevent rate limit errors\n",
        "\n",
        "from ragas.llms import LangchainLLMWrapper\n",
        "from ragas.embeddings import LangchainEmbeddingsWrapper\n",
        "from langchain_openai import ChatOpenAI\n",
        "from langchain_openai import OpenAIEmbeddings\n",
        "\n",
        "# Configure the model for better JSON responses to prevent errors\n",
        "generator_llm = LangchainLLMWrapper(\n",
        "    ChatOpenAI(\n",
        "        model=\"gpt-4.1-nano\",\n",
        "        temperature=0,  \n",
        "        model_kwargs={\"response_format\": {\"type\": \"json_object\"}}  # Force JSON format\n",
        "    )\n",
        ")\n",
        "generator_embeddings = LangchainEmbeddingsWrapper(OpenAIEmbeddings())"
      ]
    },
    {
      "cell_type": "code",
      "execution_count": 57,
      "metadata": {},
      "outputs": [],
      "source": [
        "from ragas.testset.synthesizers import SingleHopSpecificQuerySynthesizer, MultiHopAbstractQuerySynthesizer, MultiHopSpecificQuerySynthesizer\n",
        "\n",
        "query_distribution = [\n",
        "        (SingleHopSpecificQuerySynthesizer(llm=generator_llm), 0.5),\n",
        "        (MultiHopAbstractQuerySynthesizer(llm=generator_llm), 0.25),\n",
        "        (MultiHopSpecificQuerySynthesizer(llm=generator_llm), 0.25),\n",
        "]\n"
      ]
    },
    {
      "cell_type": "code",
      "execution_count": 60,
      "metadata": {},
      "outputs": [
        {
          "data": {
            "application/vnd.jupyter.widget-view+json": {
              "model_id": "be645dc84bc7410e8cd59e55feebc7a9",
              "version_major": 2,
              "version_minor": 0
            },
            "text/plain": [
              "Applying SummaryExtractor:   0%|          | 0/44 [00:00<?, ?it/s]"
            ]
          },
          "metadata": {},
          "output_type": "display_data"
        },
        {
          "data": {
            "application/vnd.jupyter.widget-view+json": {
              "model_id": "a216a59ce0c74001afaaddc4f078305e",
              "version_major": 2,
              "version_minor": 0
            },
            "text/plain": [
              "Applying CustomNodeFilter:   0%|          | 0/100 [00:00<?, ?it/s]"
            ]
          },
          "metadata": {},
          "output_type": "display_data"
        },
        {
          "name": "stderr",
          "output_type": "stream",
          "text": [
            "Node f1f8bec7-4bf1-4b34-a782-d05774d5af29 does not have a summary. Skipping filtering.\n",
            "Node 9e526faf-b31f-4a94-9d06-90f7387bef0e does not have a summary. Skipping filtering.\n",
            "Node 58f636a0-f58c-42c2-8820-78cae6140e5a does not have a summary. Skipping filtering.\n",
            "Node b73a7947-8509-4b26-b336-cc08b2861919 does not have a summary. Skipping filtering.\n",
            "Node 5de52888-2255-43bc-98e1-776417795f44 does not have a summary. Skipping filtering.\n",
            "Node 0c22e3fd-aa69-417e-832b-96b9c1287a11 does not have a summary. Skipping filtering.\n",
            "Node f1738415-3604-45d1-8ef3-ba8c536342c7 does not have a summary. Skipping filtering.\n",
            "Node 77629322-3914-4e4f-9962-e19e53eb7f52 does not have a summary. Skipping filtering.\n",
            "Node 68052181-b8d4-4688-a405-74a381452b0b does not have a summary. Skipping filtering.\n",
            "Node ff0e36b0-d9ce-4452-91e5-6898bf472cec does not have a summary. Skipping filtering.\n",
            "Node 71d70240-a587-49b0-a2cd-c76c5c4aa100 does not have a summary. Skipping filtering.\n",
            "Node a372335a-00cd-4f47-b526-e8a8df1b3976 does not have a summary. Skipping filtering.\n",
            "Node ad9355cd-109c-447b-99c2-712ddc7c0a71 does not have a summary. Skipping filtering.\n",
            "Node 1a424a63-1139-4c4d-b60d-51f2ba92fad8 does not have a summary. Skipping filtering.\n",
            "Node c891059f-a9d6-4d07-8874-73d24f953c0b does not have a summary. Skipping filtering.\n",
            "Node 5dda6a8c-17e2-47e5-bbc5-3f6c68ac7af1 does not have a summary. Skipping filtering.\n",
            "Node e936e028-550c-4161-beae-662b8003c86d does not have a summary. Skipping filtering.\n",
            "Node bb097dc8-f77f-474f-a701-9e1397c55d00 does not have a summary. Skipping filtering.\n",
            "Node 27ba0066-d173-44ff-a9e4-eb0f59702d44 does not have a summary. Skipping filtering.\n",
            "Node 4ffeb422-eb5a-409a-b1cd-3e6e0a2aae89 does not have a summary. Skipping filtering.\n",
            "Node 874ecce4-e561-4513-8234-3622340a5e1c does not have a summary. Skipping filtering.\n",
            "Node f7fd8428-12ca-47c4-b0d8-d3b4267c44a4 does not have a summary. Skipping filtering.\n",
            "Node e0f43fee-94d0-49ec-98a4-fb1c2a8521e3 does not have a summary. Skipping filtering.\n",
            "Node 864f61e9-c487-4b10-942c-7766617f866b does not have a summary. Skipping filtering.\n",
            "Node cdf1f958-27d6-4c64-a0fd-50f52bcaa10e does not have a summary. Skipping filtering.\n",
            "Node 8c1910f0-8a7b-4d59-b1b1-47cbf2957c7d does not have a summary. Skipping filtering.\n",
            "Node 7f4150a6-61df-46b3-9424-fc5fd552cad9 does not have a summary. Skipping filtering.\n",
            "Node a8927951-00ee-4c78-8e04-ed0f0c304d64 does not have a summary. Skipping filtering.\n",
            "Node 9ab736b5-14c2-49f8-9433-ffd42b47c0ee does not have a summary. Skipping filtering.\n",
            "Node 8d970d44-e316-446e-b82c-e5de4056a7a6 does not have a summary. Skipping filtering.\n",
            "Node 81d874aa-4e7e-4962-92da-400cb6fd36ae does not have a summary. Skipping filtering.\n",
            "Node f6bfbf9a-4120-48cc-a3a6-48b458f25521 does not have a summary. Skipping filtering.\n",
            "Node d06bf774-ac6d-4891-9cfb-0672be686414 does not have a summary. Skipping filtering.\n",
            "Node 9049ffba-59ec-4dee-8bcc-871d9a4c6729 does not have a summary. Skipping filtering.\n",
            "Node 0aad5787-ade3-4923-95d7-78fee657509b does not have a summary. Skipping filtering.\n",
            "Node 373f1d00-f83f-4760-afff-4eb2114a71b3 does not have a summary. Skipping filtering.\n",
            "Node d60aa459-3ea6-4179-86c5-c21949855019 does not have a summary. Skipping filtering.\n",
            "Node 15bf0340-704b-4d72-a578-32e10f8a818e does not have a summary. Skipping filtering.\n",
            "Node 63fb6ae1-97c7-44f6-8a84-e1570ac1dc10 does not have a summary. Skipping filtering.\n",
            "Node 5164e68e-21ab-464e-9ebe-0f19830b1343 does not have a summary. Skipping filtering.\n",
            "Node d6e36141-562e-4b79-b104-55aa66459753 does not have a summary. Skipping filtering.\n",
            "Node 5b98b974-2c36-4867-b60e-5ac7891245d8 does not have a summary. Skipping filtering.\n",
            "Node 4866ff21-a125-4c29-9bb1-73b870d7dfca does not have a summary. Skipping filtering.\n",
            "Node 87bd7a6c-f7f4-4554-8f8c-977f9db9122e does not have a summary. Skipping filtering.\n",
            "Node 7eb2bbd8-c6ab-4166-8c68-ca1b0ae00975 does not have a summary. Skipping filtering.\n",
            "Node 2f341de8-1d33-4069-b7a1-b9619df5aae5 does not have a summary. Skipping filtering.\n",
            "Node 61a8cded-96ae-4616-92d8-4e403ec1218b does not have a summary. Skipping filtering.\n",
            "Node 87a20780-b4d5-4b7f-a287-2dac60b2787e does not have a summary. Skipping filtering.\n",
            "Node c4b209b3-e20d-4977-814f-766ad23d8f32 does not have a summary. Skipping filtering.\n",
            "Node b3985284-a2ae-4181-b5f6-9ebbb0bdcfc8 does not have a summary. Skipping filtering.\n",
            "Node 82f0ae66-06e4-4671-b68f-9ddca93fa3de does not have a summary. Skipping filtering.\n",
            "Node f95a4a98-a76b-4d23-85b9-b08fa6891847 does not have a summary. Skipping filtering.\n",
            "Node 890b33da-5eef-43ee-9843-5692bea6e031 does not have a summary. Skipping filtering.\n",
            "Node 74cecfc9-894e-4556-80cf-61a4efc74fa3 does not have a summary. Skipping filtering.\n",
            "Node d5dc1a4f-7662-43e4-b05f-a711c6b75f52 does not have a summary. Skipping filtering.\n",
            "Node 0e2bd525-2457-4cb6-8a75-268e6a3f0e23 does not have a summary. Skipping filtering.\n"
          ]
        },
        {
          "data": {
            "application/vnd.jupyter.widget-view+json": {
              "model_id": "fbab106a7c7347acb9583d2625e19ab5",
              "version_major": 2,
              "version_minor": 0
            },
            "text/plain": [
              "Applying [EmbeddingExtractor, ThemesExtractor, NERExtractor]:   0%|          | 0/217 [00:00<?, ?it/s]"
            ]
          },
          "metadata": {},
          "output_type": "display_data"
        },
        {
          "data": {
            "application/vnd.jupyter.widget-view+json": {
              "model_id": "817ff59bc39449ed817c9638bfb37eaa",
              "version_major": 2,
              "version_minor": 0
            },
            "text/plain": [
              "Applying [CosineSimilarityBuilder, OverlapScoreBuilder]:   0%|          | 0/2 [00:00<?, ?it/s]"
            ]
          },
          "metadata": {},
          "output_type": "display_data"
        },
        {
          "data": {
            "application/vnd.jupyter.widget-view+json": {
              "model_id": "fc2d1197815e46cd9f3d9d6634a5a242",
              "version_major": 2,
              "version_minor": 0
            },
            "text/plain": [
              "Generating personas:   0%|          | 0/3 [00:00<?, ?it/s]"
            ]
          },
          "metadata": {},
          "output_type": "display_data"
        },
        {
          "data": {
            "application/vnd.jupyter.widget-view+json": {
              "model_id": "f5fe689724c444d78bc5aa171c80d1c7",
              "version_major": 2,
              "version_minor": 0
            },
            "text/plain": [
              "Generating Scenarios:   0%|          | 0/3 [00:00<?, ?it/s]"
            ]
          },
          "metadata": {},
          "output_type": "display_data"
        },
        {
          "data": {
            "application/vnd.jupyter.widget-view+json": {
              "model_id": "9170426e6b084a9687b69eda76ae52f7",
              "version_major": 2,
              "version_minor": 0
            },
            "text/plain": [
              "Generating Samples:   0%|          | 0/11 [00:00<?, ?it/s]"
            ]
          },
          "metadata": {},
          "output_type": "display_data"
        }
      ],
      "source": [
        "from ragas.testset import TestsetGenerator\n",
        "\n",
        "\n",
        "generator = TestsetGenerator(llm=generator_llm, embedding_model=generator_embeddings)\n",
        "dataset = generator.generate_with_langchain_docs(documents, testset_size=10, query_distribution=query_distribution)"
      ]
    },
    {
      "cell_type": "code",
      "execution_count": 61,
      "metadata": {},
      "outputs": [
        {
          "data": {
            "text/html": [
              "<div>\n",
              "<style scoped>\n",
              "    .dataframe tbody tr th:only-of-type {\n",
              "        vertical-align: middle;\n",
              "    }\n",
              "\n",
              "    .dataframe tbody tr th {\n",
              "        vertical-align: top;\n",
              "    }\n",
              "\n",
              "    .dataframe thead th {\n",
              "        text-align: right;\n",
              "    }\n",
              "</style>\n",
              "<table border=\"1\" class=\"dataframe\">\n",
              "  <thead>\n",
              "    <tr style=\"text-align: right;\">\n",
              "      <th></th>\n",
              "      <th>user_input</th>\n",
              "      <th>reference_contexts</th>\n",
              "      <th>reference</th>\n",
              "      <th>synthesizer_name</th>\n",
              "    </tr>\n",
              "  </thead>\n",
              "  <tbody>\n",
              "    <tr>\n",
              "      <th>0</th>\n",
              "      <td>Can you explain why the movie John Wick is con...</td>\n",
              "      <td>[: 0\\nReview: The best way I can describe John...</td>\n",
              "      <td>John Wick (Reeves) is out to seek revenge on t...</td>\n",
              "      <td>single_hop_specifc_query_synthesizer</td>\n",
              "    </tr>\n",
              "    <tr>\n",
              "      <th>1</th>\n",
              "      <td>Whaat is the genral idea behnd John Wick and w...</td>\n",
              "      <td>[: 2\\nReview: With the fourth installment scor...</td>\n",
              "      <td>The context indicates that \"John Wick\" is a fi...</td>\n",
              "      <td>single_hop_specifc_query_synthesizer</td>\n",
              "    </tr>\n",
              "    <tr>\n",
              "      <th>2</th>\n",
              "      <td>Whaat makes John Wick so special despite its s...</td>\n",
              "      <td>[: 3\\nReview: John wick has a very simple reve...</td>\n",
              "      <td>John Wick has a very simple revenge story, sum...</td>\n",
              "      <td>single_hop_specifc_query_synthesizer</td>\n",
              "    </tr>\n",
              "    <tr>\n",
              "      <th>3</th>\n",
              "      <td>In the context of the film series featuring Jo...</td>\n",
              "      <td>[: 4\\nReview: Though he no longer has a taste ...</td>\n",
              "      <td>The review mentions that John Wick and his dog...</td>\n",
              "      <td>single_hop_specifc_query_synthesizer</td>\n",
              "    </tr>\n",
              "    <tr>\n",
              "      <th>4</th>\n",
              "      <td>How does the character Wick evolve throughout ...</td>\n",
              "      <td>[: 5\\nReview: Ultra-violent first entry with l...</td>\n",
              "      <td>The context describes John Wick as an ex-hit-m...</td>\n",
              "      <td>single_hop_specifc_query_synthesizer</td>\n",
              "    </tr>\n",
              "    <tr>\n",
              "      <th>5</th>\n",
              "      <td>How does Director Chad Stahelski's work in Joh...</td>\n",
              "      <td>[&lt;1-hop&gt;\\n\\n: 19\\nReview: John Wick: Chapter 4...</td>\n",
              "      <td>Director Chad Stahelski's work in John Wick: C...</td>\n",
              "      <td>multi_hop_abstract_query_synthesizer</td>\n",
              "    </tr>\n",
              "    <tr>\n",
              "      <th>6</th>\n",
              "      <td>Considering the consistent critical reception ...</td>\n",
              "      <td>[&lt;1-hop&gt;\\n\\n: 20\\nReview: In a world where mov...</td>\n",
              "      <td>The review highlights that the 'John Wick' ser...</td>\n",
              "      <td>multi_hop_abstract_query_synthesizer</td>\n",
              "    </tr>\n",
              "    <tr>\n",
              "      <th>7</th>\n",
              "      <td>Considering the consistent series quality of t...</td>\n",
              "      <td>[&lt;1-hop&gt;\\n\\n: 20\\nReview: In a world where mov...</td>\n",
              "      <td>The John Wick series has maintained remarkable...</td>\n",
              "      <td>multi_hop_abstract_query_synthesizer</td>\n",
              "    </tr>\n",
              "    <tr>\n",
              "      <th>8</th>\n",
              "      <td>Hwo does Chapter 3 - Parabellum show the conse...</td>\n",
              "      <td>[&lt;1-hop&gt;\\n\\n: 24\\nReview: John Wick: Chapter 3...</td>\n",
              "      <td>Chapter 3 - Parabellum illustrates the consequ...</td>\n",
              "      <td>multi_hop_specific_query_synthesizer</td>\n",
              "    </tr>\n",
              "    <tr>\n",
              "      <th>9</th>\n",
              "      <td>How does the portrayal of Russian gangsters in...</td>\n",
              "      <td>[&lt;1-hop&gt;\\n\\n: 10\\nReview: Wow what a great sur...</td>\n",
              "      <td>The context describes John Wick's conflict wit...</td>\n",
              "      <td>multi_hop_specific_query_synthesizer</td>\n",
              "    </tr>\n",
              "    <tr>\n",
              "      <th>10</th>\n",
              "      <td>How does Ian McShane's role in the John Wick s...</td>\n",
              "      <td>[&lt;1-hop&gt;\\n\\n: 19\\nReview: If you've seen the f...</td>\n",
              "      <td>Ian McShane's role in the John Wick series is ...</td>\n",
              "      <td>multi_hop_specific_query_synthesizer</td>\n",
              "    </tr>\n",
              "  </tbody>\n",
              "</table>\n",
              "</div>"
            ],
            "text/plain": [
              "                                           user_input  \\\n",
              "0   Can you explain why the movie John Wick is con...   \n",
              "1   Whaat is the genral idea behnd John Wick and w...   \n",
              "2   Whaat makes John Wick so special despite its s...   \n",
              "3   In the context of the film series featuring Jo...   \n",
              "4   How does the character Wick evolve throughout ...   \n",
              "5   How does Director Chad Stahelski's work in Joh...   \n",
              "6   Considering the consistent critical reception ...   \n",
              "7   Considering the consistent series quality of t...   \n",
              "8   Hwo does Chapter 3 - Parabellum show the conse...   \n",
              "9   How does the portrayal of Russian gangsters in...   \n",
              "10  How does Ian McShane's role in the John Wick s...   \n",
              "\n",
              "                                   reference_contexts  \\\n",
              "0   [: 0\\nReview: The best way I can describe John...   \n",
              "1   [: 2\\nReview: With the fourth installment scor...   \n",
              "2   [: 3\\nReview: John wick has a very simple reve...   \n",
              "3   [: 4\\nReview: Though he no longer has a taste ...   \n",
              "4   [: 5\\nReview: Ultra-violent first entry with l...   \n",
              "5   [<1-hop>\\n\\n: 19\\nReview: John Wick: Chapter 4...   \n",
              "6   [<1-hop>\\n\\n: 20\\nReview: In a world where mov...   \n",
              "7   [<1-hop>\\n\\n: 20\\nReview: In a world where mov...   \n",
              "8   [<1-hop>\\n\\n: 24\\nReview: John Wick: Chapter 3...   \n",
              "9   [<1-hop>\\n\\n: 10\\nReview: Wow what a great sur...   \n",
              "10  [<1-hop>\\n\\n: 19\\nReview: If you've seen the f...   \n",
              "\n",
              "                                            reference  \\\n",
              "0   John Wick (Reeves) is out to seek revenge on t...   \n",
              "1   The context indicates that \"John Wick\" is a fi...   \n",
              "2   John Wick has a very simple revenge story, sum...   \n",
              "3   The review mentions that John Wick and his dog...   \n",
              "4   The context describes John Wick as an ex-hit-m...   \n",
              "5   Director Chad Stahelski's work in John Wick: C...   \n",
              "6   The review highlights that the 'John Wick' ser...   \n",
              "7   The John Wick series has maintained remarkable...   \n",
              "8   Chapter 3 - Parabellum illustrates the consequ...   \n",
              "9   The context describes John Wick's conflict wit...   \n",
              "10  Ian McShane's role in the John Wick series is ...   \n",
              "\n",
              "                        synthesizer_name  \n",
              "0   single_hop_specifc_query_synthesizer  \n",
              "1   single_hop_specifc_query_synthesizer  \n",
              "2   single_hop_specifc_query_synthesizer  \n",
              "3   single_hop_specifc_query_synthesizer  \n",
              "4   single_hop_specifc_query_synthesizer  \n",
              "5   multi_hop_abstract_query_synthesizer  \n",
              "6   multi_hop_abstract_query_synthesizer  \n",
              "7   multi_hop_abstract_query_synthesizer  \n",
              "8   multi_hop_specific_query_synthesizer  \n",
              "9   multi_hop_specific_query_synthesizer  \n",
              "10  multi_hop_specific_query_synthesizer  "
            ]
          },
          "execution_count": 61,
          "metadata": {},
          "output_type": "execute_result"
        }
      ],
      "source": [
        "dataset.to_pandas()\n"
      ]
    },
    {
      "cell_type": "code",
      "execution_count": 62,
      "metadata": {},
      "outputs": [
        {
          "data": {
            "text/plain": [
              "[\": 0\\nReview: The best way I can describe John Wick is to picture Taken but instead of Liam Neeson it's Keanu Reeves and instead of his daughter it's his dog. That's essentially the plot of the movie. John Wick (Reeves) is out to seek revenge on the people who took something he loved from him. It's a beautifully simple premise for an action movie - when action movies get convoluted, they get bad i.e. A Good Day to Die Hard. John Wick gives the viewers what they want: Awesome action, stylish stunts, kinetic chaos, and a relatable hero to tie it all together. John Wick succeeds in its simplicity.\"]"
            ]
          },
          "execution_count": 62,
          "metadata": {},
          "output_type": "execute_result"
        }
      ],
      "source": [
        "dataset.to_pandas()['reference_contexts'].iloc[0]"
      ]
    },
    {
      "cell_type": "markdown",
      "metadata": {},
      "source": [
        "### Important Note:\n",
        "\n",
        "Notice that in all the chains above, we are sending the LLM not the clean version of the context (i.e. the '.page_content' version). Respectfully, perhaps this was a typo since this isn't what we've done previously (also for a previous cohort for this session, they did it with the clean '.page_content' version). \n",
        "\n",
        "So the question becomes, when doing our evaluations, do we give Ragas the clean '.page_content' version of the context? I think so because that was probably the intent. So that's what I'll do below (please don't mark off point for this, I know how to do it either way (the other option is to just convert the Document objects to str))"
      ]
    },
    {
      "cell_type": "code",
      "execution_count": 66,
      "metadata": {},
      "outputs": [],
      "source": [
        "import os\n",
        "import getpass\n",
        "\n",
        "os.environ[\"LANGCHAIN_TRACING_V2\"] = \"true\"\n",
        "os.environ[\"LANGCHAIN_API_KEY\"] = getpass.getpass(\"LangChain API Key:\")"
      ]
    },
    {
      "cell_type": "code",
      "execution_count": 67,
      "metadata": {},
      "outputs": [],
      "source": [
        "from uuid import uuid4\n",
        "\n",
        "os.environ[\"LANGCHAIN_PROJECT\"] = f\"Session 13 AIE6 - {uuid4().hex[0:8]}\""
      ]
    },
    {
      "cell_type": "code",
      "execution_count": 68,
      "metadata": {},
      "outputs": [],
      "source": [
        "from ragas import EvaluationDataset\n",
        "\n",
        "# We use the same model that we used to generate our synthetic data to be our judge\n",
        "\n",
        "from ragas import evaluate\n",
        "from ragas.llms import LangchainLLMWrapper\n",
        "\n",
        "evaluator_llm = LangchainLLMWrapper(ChatOpenAI(model=\"gpt-4.1-nano\", max_tokens=4096))\n"
      ]
    },
    {
      "cell_type": "code",
      "execution_count": 69,
      "metadata": {},
      "outputs": [],
      "source": [
        "# We evaluate the baseline using our key 6 Ragas RAG metrics\n",
        "\n",
        "from ragas.metrics import LLMContextRecall, Faithfulness, FactualCorrectness, ResponseRelevancy, ContextEntityRecall, NoiseSensitivity\n",
        "from ragas import evaluate, RunConfig\n",
        "\n",
        "custom_run_config = RunConfig(timeout=600)"
      ]
    },
    {
      "cell_type": "code",
      "execution_count": 70,
      "metadata": {},
      "outputs": [
        {
          "data": {
            "application/vnd.jupyter.widget-view+json": {
              "model_id": "c7d1c439ae2545ed8de54ee3c9691f06",
              "version_major": 2,
              "version_minor": 0
            },
            "text/plain": [
              "Evaluating:   0%|          | 0/66 [00:00<?, ?it/s]"
            ]
          },
          "metadata": {},
          "output_type": "display_data"
        },
        {
          "name": "stderr",
          "output_type": "stream",
          "text": [
            "Exception raised in Job[22]: LLMDidNotFinishException(The LLM generation was not completed. Please increase the max_tokens and try again.)\n",
            "Exception raised in Job[34]: LLMDidNotFinishException(The LLM generation was not completed. Please increase the max_tokens and try again.)\n",
            "Exception raised in Job[40]: LLMDidNotFinishException(The LLM generation was not completed. Please increase the max_tokens and try again.)\n",
            "Exception raised in Job[52]: LLMDidNotFinishException(The LLM generation was not completed. Please increase the max_tokens and try again.)\n",
            "Exception raised in Job[58]: LLMDidNotFinishException(The LLM generation was not completed. Please increase the max_tokens and try again.)\n",
            "Exception raised in Job[35]: ValueError(setting an array element with a sequence. The requested array has an inhomogeneous shape after 1 dimensions. The detected shape was (10,) + inhomogeneous part.)\n",
            "Exception raised in Job[11]: ValueError(setting an array element with a sequence. The requested array has an inhomogeneous shape after 1 dimensions. The detected shape was (10,) + inhomogeneous part.)\n"
          ]
        },
        {
          "data": {
            "application/vnd.jupyter.widget-view+json": {
              "model_id": "07fda4082280473abcf1df0897101b19",
              "version_major": 2,
              "version_minor": 0
            },
            "text/plain": [
              "Evaluating:   0%|          | 0/66 [00:00<?, ?it/s]"
            ]
          },
          "metadata": {},
          "output_type": "display_data"
        },
        {
          "name": "stderr",
          "output_type": "stream",
          "text": [
            "Exception raised in Job[64]: LLMDidNotFinishException(The LLM generation was not completed. Please increase the max_tokens and try again.)\n"
          ]
        },
        {
          "data": {
            "application/vnd.jupyter.widget-view+json": {
              "model_id": "3fda02a1d4af48b68bb7008381d5b1d6",
              "version_major": 2,
              "version_minor": 0
            },
            "text/plain": [
              "Evaluating:   0%|          | 0/66 [00:00<?, ?it/s]"
            ]
          },
          "metadata": {},
          "output_type": "display_data"
        },
        {
          "data": {
            "application/vnd.jupyter.widget-view+json": {
              "model_id": "fcf6993bd1ce464480a85557a99f30eb",
              "version_major": 2,
              "version_minor": 0
            },
            "text/plain": [
              "Evaluating:   0%|          | 0/66 [00:00<?, ?it/s]"
            ]
          },
          "metadata": {},
          "output_type": "display_data"
        },
        {
          "name": "stderr",
          "output_type": "stream",
          "text": [
            "Exception raised in Job[22]: LLMDidNotFinishException(The LLM generation was not completed. Please increase the max_tokens and try again.)\n",
            "Exception raised in Job[52]: LLMDidNotFinishException(The LLM generation was not completed. Please increase the max_tokens and try again.)\n",
            "Exception raised in Job[58]: LLMDidNotFinishException(The LLM generation was not completed. Please increase the max_tokens and try again.)\n",
            "Exception raised in Job[64]: LLMDidNotFinishException(The LLM generation was not completed. Please increase the max_tokens and try again.)\n"
          ]
        },
        {
          "data": {
            "application/vnd.jupyter.widget-view+json": {
              "model_id": "2b00457b8a75400d89a5f8d8cf09d93f",
              "version_major": 2,
              "version_minor": 0
            },
            "text/plain": [
              "Evaluating:   0%|          | 0/66 [00:00<?, ?it/s]"
            ]
          },
          "metadata": {},
          "output_type": "display_data"
        },
        {
          "data": {
            "application/vnd.jupyter.widget-view+json": {
              "model_id": "2786ea7cc2a248949bf421e5f19aa1e2",
              "version_major": 2,
              "version_minor": 0
            },
            "text/plain": [
              "Evaluating:   0%|          | 0/66 [00:00<?, ?it/s]"
            ]
          },
          "metadata": {},
          "output_type": "display_data"
        },
        {
          "name": "stderr",
          "output_type": "stream",
          "text": [
            "Exception raised in Job[34]: LLMDidNotFinishException(The LLM generation was not completed. Please increase the max_tokens and try again.)\n",
            "Exception raised in Job[40]: LLMDidNotFinishException(The LLM generation was not completed. Please increase the max_tokens and try again.)\n",
            "Exception raised in Job[58]: LLMDidNotFinishException(The LLM generation was not completed. Please increase the max_tokens and try again.)\n",
            "Exception raised in Job[64]: LLMDidNotFinishException(The LLM generation was not completed. Please increase the max_tokens and try again.)\n",
            "Exception raised in Job[53]: ValueError(setting an array element with a sequence. The requested array has an inhomogeneous shape after 1 dimensions. The detected shape was (13,) + inhomogeneous part.)\n"
          ]
        },
        {
          "data": {
            "application/vnd.jupyter.widget-view+json": {
              "model_id": "78d4c5991bed4f2db2f344a86ea581fe",
              "version_major": 2,
              "version_minor": 0
            },
            "text/plain": [
              "Evaluating:   0%|          | 0/66 [00:00<?, ?it/s]"
            ]
          },
          "metadata": {},
          "output_type": "display_data"
        },
        {
          "name": "stderr",
          "output_type": "stream",
          "text": [
            "Exception raised in Job[40]: LLMDidNotFinishException(The LLM generation was not completed. Please increase the max_tokens and try again.)\n",
            "Exception raised in Job[58]: LLMDidNotFinishException(The LLM generation was not completed. Please increase the max_tokens and try again.)\n"
          ]
        },
        {
          "data": {
            "text/html": [
              "<div>\n",
              "<style scoped>\n",
              "    .dataframe tbody tr th:only-of-type {\n",
              "        vertical-align: middle;\n",
              "    }\n",
              "\n",
              "    .dataframe tbody tr th {\n",
              "        vertical-align: top;\n",
              "    }\n",
              "\n",
              "    .dataframe thead th {\n",
              "        text-align: right;\n",
              "    }\n",
              "</style>\n",
              "<table border=\"1\" class=\"dataframe\">\n",
              "  <thead>\n",
              "    <tr style=\"text-align: right;\">\n",
              "      <th></th>\n",
              "      <th>context_recall</th>\n",
              "      <th>faithfulness</th>\n",
              "      <th>factual_correctness(mode=f1)</th>\n",
              "      <th>answer_relevancy</th>\n",
              "      <th>context_entity_recall</th>\n",
              "      <th>noise_sensitivity(mode=relevant)</th>\n",
              "    </tr>\n",
              "    <tr>\n",
              "      <th>Chain</th>\n",
              "      <th></th>\n",
              "      <th></th>\n",
              "      <th></th>\n",
              "      <th></th>\n",
              "      <th></th>\n",
              "      <th></th>\n",
              "    </tr>\n",
              "  </thead>\n",
              "  <tbody>\n",
              "    <tr>\n",
              "      <th>naive_retrieval_chain</th>\n",
              "      <td>[1.0, 1.0, 1.0, 1.0, 1.0, 1.0, 1.0, 1.0, 1.0, ...</td>\n",
              "      <td>[0.9375, 1.0, 1.0, 1.0, 1.0, 0.954545454545454...</td>\n",
              "      <td>[0.58, 0.84, 0.44, 0.75, 0.88, 0.72, 0.85, 0.6...</td>\n",
              "      <td>[0.9445701416835623, 0.8966078832256427, 0.940...</td>\n",
              "      <td>[0.999999995, 0.14285714265306124, 0.666666664...</td>\n",
              "      <td>[0.3125, nan, 0.26666666666666666, 0.357142857...</td>\n",
              "    </tr>\n",
              "    <tr>\n",
              "      <th>bm25_retrieval_chain</th>\n",
              "      <td>[1.0, 1.0, 1.0, 1.0, 1.0, 1.0, 0.6666666666666...</td>\n",
              "      <td>[1.0, 1.0, 0.9, 0.0, 1.0, 0.9333333333333333, ...</td>\n",
              "      <td>[0.82, 0.76, 0.54, 0.92, 0.67, 0.89, 0.32, 0.4...</td>\n",
              "      <td>[0.961892086096711, 0.8957964187828619, 0.9601...</td>\n",
              "      <td>[0.4999999975, 0.14285714265306124, 0.66666666...</td>\n",
              "      <td>[0.0, 0.25, 0.5, 0.0, 0.16666666666666666, 0.6...</td>\n",
              "    </tr>\n",
              "    <tr>\n",
              "      <th>contextual_compression_retrieval_chain</th>\n",
              "      <td>[1.0, 1.0, 1.0, 1.0, 1.0, 1.0, 1.0, 1.0, 1.0, ...</td>\n",
              "      <td>[1.0, 0.8333333333333334, 0.9333333333333333, ...</td>\n",
              "      <td>[0.89, 0.81, 0.67, 0.81, 0.58, 0.42, 0.5, 0.63...</td>\n",
              "      <td>[0.9590799021284276, 0.950450543482812, 0.9693...</td>\n",
              "      <td>[0.4999999975, 0.0, 0.9999999966666667, 0.7499...</td>\n",
              "      <td>[0.13333333333333333, 0.3333333333333333, 0.33...</td>\n",
              "    </tr>\n",
              "    <tr>\n",
              "      <th>multi_query_retrieval_chain</th>\n",
              "      <td>[1.0, 1.0, 1.0, 1.0, 1.0, 1.0, 1.0, 1.0, 1.0, ...</td>\n",
              "      <td>[1.0, 1.0, 1.0, 1.0, 1.0, 1.0, 1.0, 1.0, 0.75,...</td>\n",
              "      <td>[0.6, 0.73, 0.94, 0.77, 0.95, 0.59, 0.81, 0.62...</td>\n",
              "      <td>[0.961892086096711, 0.9022383848052451, 0.9598...</td>\n",
              "      <td>[0.999999995, 0.14285714265306124, 0.666666664...</td>\n",
              "      <td>[0.625, 0.8888888888888888, 0.5, 0.38461538461...</td>\n",
              "    </tr>\n",
              "    <tr>\n",
              "      <th>parent_document_retrieval_chain</th>\n",
              "      <td>[1.0, 1.0, 1.0, 1.0, 1.0, 1.0, 1.0, 1.0, 1.0, ...</td>\n",
              "      <td>[0.9166666666666666, 1.0, 1.0, 0.5454545454545...</td>\n",
              "      <td>[0.58, 0.61, 0.86, 0.83, 0.5, 0.77, 0.53, 0.4,...</td>\n",
              "      <td>[0.961892086096711, 0.9048378074783896, 0.9693...</td>\n",
              "      <td>[0.4999999975, 0.14285714265306124, 0.66666666...</td>\n",
              "      <td>[0.5833333333333334, 0.7777777777777778, 0.111...</td>\n",
              "    </tr>\n",
              "    <tr>\n",
              "      <th>ensemble_retrieval_chain</th>\n",
              "      <td>[1.0, 1.0, 1.0, 1.0, 1.0, 1.0, 1.0, 1.0, 1.0, ...</td>\n",
              "      <td>[1.0, 1.0, 1.0, 1.0, 1.0, 0.9375, 1.0, 1.0, 0....</td>\n",
              "      <td>[0.79, 0.18, 0.57, 0.86, 0.64, 0.93, 0.69, 0.7...</td>\n",
              "      <td>[0.9618791268483196, 0.8957925230671618, 0.969...</td>\n",
              "      <td>[0.4999999975, 0.14285714265306124, 0.66666666...</td>\n",
              "      <td>[0.36363636363636365, 0.875, 0.571428571428571...</td>\n",
              "    </tr>\n",
              "    <tr>\n",
              "      <th>semantic_retrieval_chain</th>\n",
              "      <td>[1.0, 1.0, 1.0, 1.0, 1.0, 1.0, 1.0, 1.0, 1.0, ...</td>\n",
              "      <td>[1.0, 0.9333333333333333, 1.0, 1.0, 1.0, 1.0, ...</td>\n",
              "      <td>[0.86, 0.45, 0.81, 0.69, 0.86, 0.55, 0.82, 0.3...</td>\n",
              "      <td>[0.9637899969748339, 0.928933927503548, 0.9598...</td>\n",
              "      <td>[0.999999995, 0.12499999984374999, 0.333333332...</td>\n",
              "      <td>[0.42857142857142855, 0.5, 0.14285714285714285...</td>\n",
              "    </tr>\n",
              "  </tbody>\n",
              "</table>\n",
              "</div>"
            ],
            "text/plain": [
              "                                                                           context_recall  \\\n",
              "Chain                                                                                       \n",
              "naive_retrieval_chain                   [1.0, 1.0, 1.0, 1.0, 1.0, 1.0, 1.0, 1.0, 1.0, ...   \n",
              "bm25_retrieval_chain                    [1.0, 1.0, 1.0, 1.0, 1.0, 1.0, 0.6666666666666...   \n",
              "contextual_compression_retrieval_chain  [1.0, 1.0, 1.0, 1.0, 1.0, 1.0, 1.0, 1.0, 1.0, ...   \n",
              "multi_query_retrieval_chain             [1.0, 1.0, 1.0, 1.0, 1.0, 1.0, 1.0, 1.0, 1.0, ...   \n",
              "parent_document_retrieval_chain         [1.0, 1.0, 1.0, 1.0, 1.0, 1.0, 1.0, 1.0, 1.0, ...   \n",
              "ensemble_retrieval_chain                [1.0, 1.0, 1.0, 1.0, 1.0, 1.0, 1.0, 1.0, 1.0, ...   \n",
              "semantic_retrieval_chain                [1.0, 1.0, 1.0, 1.0, 1.0, 1.0, 1.0, 1.0, 1.0, ...   \n",
              "\n",
              "                                                                             faithfulness  \\\n",
              "Chain                                                                                       \n",
              "naive_retrieval_chain                   [0.9375, 1.0, 1.0, 1.0, 1.0, 0.954545454545454...   \n",
              "bm25_retrieval_chain                    [1.0, 1.0, 0.9, 0.0, 1.0, 0.9333333333333333, ...   \n",
              "contextual_compression_retrieval_chain  [1.0, 0.8333333333333334, 0.9333333333333333, ...   \n",
              "multi_query_retrieval_chain             [1.0, 1.0, 1.0, 1.0, 1.0, 1.0, 1.0, 1.0, 0.75,...   \n",
              "parent_document_retrieval_chain         [0.9166666666666666, 1.0, 1.0, 0.5454545454545...   \n",
              "ensemble_retrieval_chain                [1.0, 1.0, 1.0, 1.0, 1.0, 0.9375, 1.0, 1.0, 0....   \n",
              "semantic_retrieval_chain                [1.0, 0.9333333333333333, 1.0, 1.0, 1.0, 1.0, ...   \n",
              "\n",
              "                                                             factual_correctness(mode=f1)  \\\n",
              "Chain                                                                                       \n",
              "naive_retrieval_chain                   [0.58, 0.84, 0.44, 0.75, 0.88, 0.72, 0.85, 0.6...   \n",
              "bm25_retrieval_chain                    [0.82, 0.76, 0.54, 0.92, 0.67, 0.89, 0.32, 0.4...   \n",
              "contextual_compression_retrieval_chain  [0.89, 0.81, 0.67, 0.81, 0.58, 0.42, 0.5, 0.63...   \n",
              "multi_query_retrieval_chain             [0.6, 0.73, 0.94, 0.77, 0.95, 0.59, 0.81, 0.62...   \n",
              "parent_document_retrieval_chain         [0.58, 0.61, 0.86, 0.83, 0.5, 0.77, 0.53, 0.4,...   \n",
              "ensemble_retrieval_chain                [0.79, 0.18, 0.57, 0.86, 0.64, 0.93, 0.69, 0.7...   \n",
              "semantic_retrieval_chain                [0.86, 0.45, 0.81, 0.69, 0.86, 0.55, 0.82, 0.3...   \n",
              "\n",
              "                                                                         answer_relevancy  \\\n",
              "Chain                                                                                       \n",
              "naive_retrieval_chain                   [0.9445701416835623, 0.8966078832256427, 0.940...   \n",
              "bm25_retrieval_chain                    [0.961892086096711, 0.8957964187828619, 0.9601...   \n",
              "contextual_compression_retrieval_chain  [0.9590799021284276, 0.950450543482812, 0.9693...   \n",
              "multi_query_retrieval_chain             [0.961892086096711, 0.9022383848052451, 0.9598...   \n",
              "parent_document_retrieval_chain         [0.961892086096711, 0.9048378074783896, 0.9693...   \n",
              "ensemble_retrieval_chain                [0.9618791268483196, 0.8957925230671618, 0.969...   \n",
              "semantic_retrieval_chain                [0.9637899969748339, 0.928933927503548, 0.9598...   \n",
              "\n",
              "                                                                    context_entity_recall  \\\n",
              "Chain                                                                                       \n",
              "naive_retrieval_chain                   [0.999999995, 0.14285714265306124, 0.666666664...   \n",
              "bm25_retrieval_chain                    [0.4999999975, 0.14285714265306124, 0.66666666...   \n",
              "contextual_compression_retrieval_chain  [0.4999999975, 0.0, 0.9999999966666667, 0.7499...   \n",
              "multi_query_retrieval_chain             [0.999999995, 0.14285714265306124, 0.666666664...   \n",
              "parent_document_retrieval_chain         [0.4999999975, 0.14285714265306124, 0.66666666...   \n",
              "ensemble_retrieval_chain                [0.4999999975, 0.14285714265306124, 0.66666666...   \n",
              "semantic_retrieval_chain                [0.999999995, 0.12499999984374999, 0.333333332...   \n",
              "\n",
              "                                                         noise_sensitivity(mode=relevant)  \n",
              "Chain                                                                                      \n",
              "naive_retrieval_chain                   [0.3125, nan, 0.26666666666666666, 0.357142857...  \n",
              "bm25_retrieval_chain                    [0.0, 0.25, 0.5, 0.0, 0.16666666666666666, 0.6...  \n",
              "contextual_compression_retrieval_chain  [0.13333333333333333, 0.3333333333333333, 0.33...  \n",
              "multi_query_retrieval_chain             [0.625, 0.8888888888888888, 0.5, 0.38461538461...  \n",
              "parent_document_retrieval_chain         [0.5833333333333334, 0.7777777777777778, 0.111...  \n",
              "ensemble_retrieval_chain                [0.36363636363636365, 0.875, 0.571428571428571...  \n",
              "semantic_retrieval_chain                [0.42857142857142855, 0.5, 0.14285714285714285...  "
            ]
          },
          "execution_count": 70,
          "metadata": {},
          "output_type": "execute_result"
        }
      ],
      "source": [
        "import copy\n",
        "import pandas as pd\n",
        "\n",
        "\n",
        "# Define retrieval chains to evaluate\n",
        "retrieval_chains = [\n",
        "    (\"naive_retrieval_chain\", naive_retrieval_chain),\n",
        "    (\"bm25_retrieval_chain\", bm25_retrieval_chain),\n",
        "    (\"contextual_compression_retrieval_chain\", contextual_compression_retrieval_chain),\n",
        "    (\"multi_query_retrieval_chain\", multi_query_retrieval_chain),\n",
        "    (\"parent_document_retrieval_chain\", parent_document_retrieval_chain),\n",
        "    (\"ensemble_retrieval_chain\", ensemble_retrieval_chain),\n",
        "    (\"semantic_retrieval_chain\", semantic_retrieval_chain)\n",
        "]\n",
        "\n",
        "results = []\n",
        "\n",
        "# Evaluate each retrieval chain\n",
        "for chain_name, chain in retrieval_chains:\n",
        "    # Create dataset copy so we don't have mutation issues\n",
        "    dataset_copy = copy.deepcopy(dataset)\n",
        "    \n",
        "    # Process dataset with current chain\n",
        "    for test_row in dataset_copy:\n",
        "        response = chain.invoke({\"question\": test_row.eval_sample.user_input})\n",
        "        test_row.eval_sample.retrieved_contexts = [ctx.page_content for ctx in response[\"context\"]]\n",
        "        test_row.eval_sample.response = response[\"response\"].content\n",
        "    \n",
        "    # Run evaluation\n",
        "    eval_dataset = EvaluationDataset.from_pandas(dataset_copy.to_pandas())\n",
        "    result = evaluate(\n",
        "        dataset=eval_dataset,\n",
        "        metrics=[LLMContextRecall(), Faithfulness(), FactualCorrectness(), ResponseRelevancy(), ContextEntityRecall(), NoiseSensitivity()],\n",
        "        llm=evaluator_llm,\n",
        "        run_config=custom_run_config\n",
        "    )\n",
        "    \n",
        "    # Store results with chain identifier\n",
        "    results.append({\n",
        "    \"Chain\": chain_name,\n",
        "    \"context_recall\": result[\"context_recall\"],\n",
        "    \"faithfulness\": result[\"faithfulness\"],\n",
        "    \"factual_correctness(mode=f1)\": result[\"factual_correctness(mode=f1)\"],\n",
        "    \"answer_relevancy\": result[\"answer_relevancy\"],\n",
        "    \"context_entity_recall\": result[\"context_entity_recall\"],\n",
        "    \"noise_sensitivity(mode=relevant)\": result[\"noise_sensitivity(mode=relevant)\"]})\n",
        "\n",
        "# Create comparison table\n",
        "df = pd.DataFrame(results).set_index(\"Chain\")\n",
        "df = df[[\n",
        "    'context_recall',\n",
        "    'faithfulness', \n",
        "    'factual_correctness(mode=f1)',\n",
        "    'answer_relevancy',\n",
        "    'context_entity_recall',\n",
        "    'noise_sensitivity(mode=relevant)'\n",
        "]].round(4)\n",
        "\n",
        "df\n"
      ]
    },
    {
      "cell_type": "markdown",
      "metadata": {},
      "source": [
        "Oops, I forgot about taking the average of the lists! Let's fix this!"
      ]
    },
    {
      "cell_type": "code",
      "execution_count": 83,
      "metadata": {},
      "outputs": [],
      "source": [
        "# Create comparison table\n",
        "df_test = pd.DataFrame(results).set_index(\"Chain\")\n",
        "df_test = df_test[[\n",
        "    'context_recall',\n",
        "    'faithfulness', \n",
        "    'factual_correctness(mode=f1)',\n",
        "    'answer_relevancy',\n",
        "    'context_entity_recall',\n",
        "    'noise_sensitivity(mode=relevant)'\n",
        "]].round(4)"
      ]
    },
    {
      "cell_type": "code",
      "execution_count": 84,
      "metadata": {},
      "outputs": [
        {
          "data": {
            "text/html": [
              "<div>\n",
              "<style scoped>\n",
              "    .dataframe tbody tr th:only-of-type {\n",
              "        vertical-align: middle;\n",
              "    }\n",
              "\n",
              "    .dataframe tbody tr th {\n",
              "        vertical-align: top;\n",
              "    }\n",
              "\n",
              "    .dataframe thead th {\n",
              "        text-align: right;\n",
              "    }\n",
              "</style>\n",
              "<table border=\"1\" class=\"dataframe\">\n",
              "  <thead>\n",
              "    <tr style=\"text-align: right;\">\n",
              "      <th></th>\n",
              "      <th>context_recall</th>\n",
              "      <th>faithfulness</th>\n",
              "      <th>factual_correctness(mode=f1)</th>\n",
              "      <th>answer_relevancy</th>\n",
              "      <th>context_entity_recall</th>\n",
              "      <th>noise_sensitivity(mode=relevant)</th>\n",
              "    </tr>\n",
              "    <tr>\n",
              "      <th>Chain</th>\n",
              "      <th></th>\n",
              "      <th></th>\n",
              "      <th></th>\n",
              "      <th></th>\n",
              "      <th></th>\n",
              "      <th></th>\n",
              "    </tr>\n",
              "  </thead>\n",
              "  <tbody>\n",
              "    <tr>\n",
              "      <th>naive_retrieval_chain</th>\n",
              "      <td>1.0000</td>\n",
              "      <td>0.9584</td>\n",
              "      <td>0.7427</td>\n",
              "      <td>0.9368</td>\n",
              "      <td>0.3789</td>\n",
              "      <td>0.1798</td>\n",
              "    </tr>\n",
              "    <tr>\n",
              "      <th>bm25_retrieval_chain</th>\n",
              "      <td>0.9697</td>\n",
              "      <td>0.8636</td>\n",
              "      <td>0.6864</td>\n",
              "      <td>0.9388</td>\n",
              "      <td>0.2802</td>\n",
              "      <td>0.1480</td>\n",
              "    </tr>\n",
              "    <tr>\n",
              "      <th>contextual_compression_retrieval_chain</th>\n",
              "      <td>1.0000</td>\n",
              "      <td>0.8938</td>\n",
              "      <td>0.7000</td>\n",
              "      <td>0.9391</td>\n",
              "      <td>0.3474</td>\n",
              "      <td>0.2420</td>\n",
              "    </tr>\n",
              "    <tr>\n",
              "      <th>multi_query_retrieval_chain</th>\n",
              "      <td>1.0000</td>\n",
              "      <td>0.9773</td>\n",
              "      <td>0.7745</td>\n",
              "      <td>0.9356</td>\n",
              "      <td>0.4371</td>\n",
              "      <td>0.3790</td>\n",
              "    </tr>\n",
              "    <tr>\n",
              "      <th>parent_document_retrieval_chain</th>\n",
              "      <td>1.0000</td>\n",
              "      <td>0.8033</td>\n",
              "      <td>0.6609</td>\n",
              "      <td>0.8536</td>\n",
              "      <td>0.3253</td>\n",
              "      <td>0.1980</td>\n",
              "    </tr>\n",
              "    <tr>\n",
              "      <th>ensemble_retrieval_chain</th>\n",
              "      <td>1.0000</td>\n",
              "      <td>0.9659</td>\n",
              "      <td>0.6900</td>\n",
              "      <td>0.9383</td>\n",
              "      <td>0.2807</td>\n",
              "      <td>0.3494</td>\n",
              "    </tr>\n",
              "    <tr>\n",
              "      <th>semantic_retrieval_chain</th>\n",
              "      <td>1.0000</td>\n",
              "      <td>0.9939</td>\n",
              "      <td>0.6945</td>\n",
              "      <td>0.9419</td>\n",
              "      <td>0.3435</td>\n",
              "      <td>0.2374</td>\n",
              "    </tr>\n",
              "  </tbody>\n",
              "</table>\n",
              "</div>"
            ],
            "text/plain": [
              "                                        context_recall  faithfulness  factual_correctness(mode=f1)  answer_relevancy  context_entity_recall  noise_sensitivity(mode=relevant)\n",
              "Chain                                                                                                                                                                        \n",
              "naive_retrieval_chain                           1.0000        0.9584                        0.7427            0.9368                 0.3789                            0.1798\n",
              "bm25_retrieval_chain                            0.9697        0.8636                        0.6864            0.9388                 0.2802                            0.1480\n",
              "contextual_compression_retrieval_chain          1.0000        0.8938                        0.7000            0.9391                 0.3474                            0.2420\n",
              "multi_query_retrieval_chain                     1.0000        0.9773                        0.7745            0.9356                 0.4371                            0.3790\n",
              "parent_document_retrieval_chain                 1.0000        0.8033                        0.6609            0.8536                 0.3253                            0.1980\n",
              "ensemble_retrieval_chain                        1.0000        0.9659                        0.6900            0.9383                 0.2807                            0.3494\n",
              "semantic_retrieval_chain                        1.0000        0.9939                        0.6945            0.9419                 0.3435                            0.2374"
            ]
          },
          "execution_count": 84,
          "metadata": {},
          "output_type": "execute_result"
        }
      ],
      "source": [
        "import pandas as pd\n",
        "import numpy as np\n",
        "\n",
        "def process_cell(cell):\n",
        "    \"\"\"Process list cells to return mean, handling NaNs and np.float64\"\"\"\n",
        "    if isinstance(cell, list):\n",
        "        cleaned = []\n",
        "        for val in cell:\n",
        "            # Handle numpy types and check for NaN\n",
        "            if isinstance(val, np.float64):\n",
        "                val = float(val)\n",
        "            if pd.notna(val):  # Check for both numpy and pandas NaNs\n",
        "                cleaned.append(val)\n",
        "        return np.mean(cleaned) if cleaned else np.nan\n",
        "    return cell  # Return non-list values as-is\n",
        "\n",
        "# Define metric columns to process\n",
        "metric_columns = [\n",
        "    'context_recall',\n",
        "    'faithfulness', \n",
        "    'factual_correctness(mode=f1)',\n",
        "    'answer_relevancy',\n",
        "    'context_entity_recall',\n",
        "    'noise_sensitivity(mode=relevant)'\n",
        "]\n",
        "\n",
        "# Create clean dataframe with averages\n",
        "df_clean = df_test.copy()\n",
        "for col in metric_columns:\n",
        "    df_clean[col] = df_clean[col].apply(process_cell)\n",
        "\n",
        "# Formatting\n",
        "df_clean = df_clean.round(4)\n",
        "df_clean = df_clean[metric_columns]  # Ensure column order\n",
        "df_clean.index = df.index  # Preserve original index\n",
        "\n",
        "# Display settings for clean output\n",
        "pd.set_option('display.width', 1000)\n",
        "pd.set_option('display.max_columns', 20)\n",
        "\n",
        "df_clean\n"
      ]
    },
    {
      "cell_type": "markdown",
      "metadata": {},
      "source": [
        "I noticed that the LangSmith tracing never happened! So I looked at their website and will try to follow how they say and will do some tracing again (but not the evaluation datasets because that took 40 minutes and failed a couple times before actually working!)"
      ]
    },
    {
      "cell_type": "code",
      "execution_count": 89,
      "metadata": {},
      "outputs": [],
      "source": [
        "import os\n",
        "import getpass\n",
        "\n",
        "os.environ[\"LANGSMITH_TRACING\"] = \"true\"\n",
        "os.environ[\"LANGSMITH_ENDPOINT\"] = \"https://api.smith.langchain.com\"\n",
        "os.environ[\"LANGSMITH_API_KEY\"] = getpass.getpass(\"LangSmith API Key:\")"
      ]
    },
    {
      "cell_type": "code",
      "execution_count": 90,
      "metadata": {},
      "outputs": [],
      "source": [
        "from uuid import uuid4\n",
        "\n",
        "os.environ[\"LANGSMITH_PROJECT\"] = f\"Session 13 AIE6 - {uuid4().hex[0:8]}\""
      ]
    },
    {
      "cell_type": "code",
      "execution_count": 91,
      "metadata": {},
      "outputs": [
        {
          "name": "stdout",
          "output_type": "stream",
          "text": [
            "You can view your traces at: https://smith.langchain.com/projects/Session%2013%20AIE6%20-%203fb6629a/traces\n"
          ]
        }
      ],
      "source": [
        "import os\n",
        "import urllib.parse\n",
        "\n",
        "project_name = urllib.parse.quote(os.environ[\"LANGSMITH_PROJECT\"])\n",
        "langsmith_url = f\"https://smith.langchain.com/projects/{project_name}/traces\"\n",
        "print(f\"You can view your traces at: {langsmith_url}\")\n"
      ]
    },
    {
      "cell_type": "code",
      "execution_count": 92,
      "metadata": {},
      "outputs": [
        {
          "data": {
            "text/plain": [
              "'Based on the reviews provided, people generally liked John Wick. Many reviews rate it highly, with some giving perfect or near-perfect scores, and praise its style, action sequences, and overall entertainment value. However, there are a few mixed opinions and some lower ratings, but the overall sentiment suggests that the film was well-received and enjoyed by most.'"
            ]
          },
          "execution_count": 92,
          "metadata": {},
          "output_type": "execute_result"
        }
      ],
      "source": [
        "naive_retrieval_chain.invoke({\"question\" : \"Did people generally like John Wick?\"})[\"response\"].content"
      ]
    }
  ],
  "metadata": {
    "colab": {
      "provenance": [],
      "toc_visible": true
    },
    "kernelspec": {
      "display_name": ".venv",
      "language": "python",
      "name": "python3"
    },
    "language_info": {
      "codemirror_mode": {
        "name": "ipython",
        "version": 3
      },
      "file_extension": ".py",
      "mimetype": "text/x-python",
      "name": "python",
      "nbconvert_exporter": "python",
      "pygments_lexer": "ipython3",
      "version": "3.13.1"
    }
  },
  "nbformat": 4,
  "nbformat_minor": 0
}
